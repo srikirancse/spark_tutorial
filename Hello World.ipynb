{
 "cells": [
  {
   "cell_type": "code",
   "execution_count": 1,
   "metadata": {},
   "outputs": [
    {
     "data": {
      "text/html": [
       "\n",
       "        <div>\n",
       "            <p><b>SparkContext</b></p>\n",
       "\n",
       "            <p><a href=\"http://c02wt020htdg:4040\">Spark UI</a></p>\n",
       "\n",
       "            <dl>\n",
       "              <dt>Version</dt>\n",
       "                <dd><code>v2.4.5</code></dd>\n",
       "              <dt>Master</dt>\n",
       "                <dd><code>local[2]</code></dd>\n",
       "              <dt>AppName</dt>\n",
       "                <dd><code>PySparkShell</code></dd>\n",
       "            </dl>\n",
       "        </div>\n",
       "        "
      ],
      "text/plain": [
       "<SparkContext master=local[2] appName=PySparkShell>"
      ]
     },
     "execution_count": 1,
     "metadata": {},
     "output_type": "execute_result"
    }
   ],
   "source": [
    "sc"
   ]
  },
  {
   "cell_type": "code",
   "execution_count": 7,
   "metadata": {},
   "outputs": [],
   "source": [
    "# Data from Yahoo finance\n",
    "\n",
    "filePath = \"file:///Users/ss055088/downloads/AAPL.csv\"\n",
    "apple = sc.textFile(filePath)"
   ]
  },
  {
   "cell_type": "code",
   "execution_count": 8,
   "metadata": {},
   "outputs": [
    {
     "data": {
      "text/plain": [
       "['Date,Open,High,Low,Close,Adj Close,Volume',\n",
       " '2019-04-22,202.830002,204.940002,202.339996,204.529999,201.887497,19439500',\n",
       " '2019-04-23,204.429993,207.750000,203.899994,207.479996,204.799362,23323000',\n",
       " '2019-04-24,207.360001,208.479996,207.050003,207.160004,204.483505,17540600',\n",
       " '2019-04-25,206.830002,207.759995,205.119995,205.279999,202.627808,18543200',\n",
       " '2019-04-26,204.899994,205.000000,202.119995,204.300003,201.660461,18649100',\n",
       " '2019-04-29,204.399994,205.970001,203.860001,204.610001,201.966461,22204700',\n",
       " '2019-04-30,203.059998,203.399994,199.110001,200.669998,198.077362,46534900',\n",
       " '2019-05-01,209.880005,215.309998,209.229996,210.520004,207.800110,64827300',\n",
       " '2019-05-02,209.839996,212.649994,208.130005,209.149994,206.447800,31996300']"
      ]
     },
     "execution_count": 8,
     "metadata": {},
     "output_type": "execute_result"
    }
   ],
   "source": [
    "apple.take(10)"
   ]
  },
  {
   "cell_type": "code",
   "execution_count": 9,
   "metadata": {},
   "outputs": [
    {
     "data": {
      "text/plain": [
       "253"
      ]
     },
     "execution_count": 9,
     "metadata": {},
     "output_type": "execute_result"
    }
   ],
   "source": [
    "apple.count()"
   ]
  },
  {
   "cell_type": "code",
   "execution_count": 10,
   "metadata": {},
   "outputs": [
    {
     "data": {
      "text/plain": [
       "253"
      ]
     },
     "execution_count": 10,
     "metadata": {},
     "output_type": "execute_result"
    }
   ],
   "source": [
    "apple.count()"
   ]
  },
  {
   "cell_type": "code",
   "execution_count": 12,
   "metadata": {},
   "outputs": [],
   "source": [
    "# Data downloaded from https://data.cityofnewyork.us/Public-Safety/NYC-crime/qb7u-rbmr\n",
    "\n",
    "path = \"file:///Users/ss055088/downloads/NYC_crime.csv\"\n",
    "data = sc.textFile(path)"
   ]
  },
  {
   "cell_type": "code",
   "execution_count": 13,
   "metadata": {},
   "outputs": [
    {
     "data": {
      "text/plain": [
       "['CMPLNT_NUM,ADDR_PCT_CD,BORO_NM,CMPLNT_FR_DT,CMPLNT_FR_TM,CMPLNT_TO_DT,CMPLNT_TO_TM,CRM_ATPT_CPTD_CD,HADEVELOPT,JURIS_DESC,KY_CD,LAW_CAT_CD,LOC_OF_OCCUR_DESC,OFNS_DESC,PARKS_NM,PD_CD,PD_DESC,PREM_TYP_DESC,RPT_DT,X_COORD_CD,Y_COORD_CD,Latitude,Longitude,Lat_Lon',\n",
       " '403250906,26,MANHATTAN,01/01/2016,00:01:00,12/31/2017,23:59:00,COMPLETED,GRANT,N.Y. HOUSING POLICE,233,MISDEMEANOR,INSIDE,SEX CRIMES,,175,\"SEXUAL ABUSE 3,2\",RESIDENCE - PUBLIC HOUSING,01/02/2019,996241,236149,40.81485028900005,-73.95668184799997,\"(40.81485028900005, -73.95668184799997)\"',\n",
       " '235290134,6,MANHATTAN,01/01/2016,12:00:00,03/01/2016,12:00:00,COMPLETED,,N.Y. POLICE DEPT,578,VIOLATION,INSIDE,HARRASSMENT 2,,638,\"HARASSMENT,SUBD 3,4,5\",PHOTO/COPY,03/11/2019,981983,208095,40.73785727300003,-74.00818192199995,\"(40.73785727300003, -74.00818192199995)\"',\n",
       " '983297347,23,MANHATTAN,01/01/2016,08:00:00,12/31/2017,08:00:00,ATTEMPTED,,N.Y. HOUSING POLICE,116,FELONY,INSIDE,SEX CRIMES,,177,SEXUAL ABUSE,RESIDENCE - PUBLIC HOUSING,04/28/2019,998730,226827,40.78926022400003,-73.94771000099996,\"(40.78926022400003, -73.94771000099996)\"',\n",
       " '405538879,18,MANHATTAN,01/01/2016,17:00:00,04/05/2019,04:36:00,COMPLETED,,N.Y. POLICE DEPT,361,MISDEMEANOR,INSIDE,OFF. AGNST PUB ORD SENSBLTY &,,639,AGGRAVATED HARASSMENT 2,RESIDENCE - APT. HOUSE,05/15/2019,988408,219412,40.76891888700004,-73.98499030199997,\"(40.76891888700004, -73.98499030199997)\"',\n",
       " '614924322,14,MANHATTAN,01/01/2016,00:01:00,,,COMPLETED,,N.Y. POLICE DEPT,109,FELONY,INSIDE,GRAND LARCENY,,430,\"LARCENY,GRAND BY BANK ACCT COMPROMISE-UNCLASSIFIED\",BANK,09/11/2019,990247,212954,40.75119227300007,-73.97835693099995,\"(40.75119227300007, -73.97835693099995)\"',\n",
       " '506003829,9,MANHATTAN,01/01/2016,21:00:00,01/02/2019,08:00:00,COMPLETED,,N.Y. POLICE DEPT,233,MISDEMEANOR,INSIDE,SEX CRIMES,,175,\"SEXUAL ABUSE 3,2\",RESIDENCE - APT. HOUSE,10/17/2019,987624,203977,40.72655401900005,-73.98782842699995,\"(40.72655401900005, -73.98782842699995)\"',\n",
       " '932184137,34,MANHATTAN,01/01/2016,00:00:00,11/30/2019,22:00:00,COMPLETED,,N.Y. POLICE DEPT,116,FELONY,INSIDE,SEX CRIMES,,177,SEXUAL ABUSE,RESIDENCE - APT. HOUSE,12/14/2019,1002106,249501,40.85148777400008,-73.93545796699993,\"(40.85148777400008, -73.93545796699993)\"',\n",
       " '965893271,25,MANHATTAN,01/02/2016,09:00:00,01/02/2017,18:30:00,COMPLETED,,N.Y. POLICE DEPT,341,MISDEMEANOR,INSIDE,PETIT LARCENY,,338,\"LARCENY,PETIT FROM BUILDING,UN\",RESIDENCE - APT. HOUSE,06/04/2019,999525,231804,40.802919400000064,-73.94482770699994,\"(40.802919400000064, -73.94482770699994)\"',\n",
       " '886223360,6,MANHATTAN,01/14/2016,13:00:00,07/31/2019,16:00:00,COMPLETED,,N.Y. POLICE DEPT,351,MISDEMEANOR,INSIDE,CRIMINAL MISCHIEF & RELATED OF,,259,\"CRIMINAL MISCHIEF,UNCLASSIFIED 4\",OTHER,07/31/2019,982746,206647,40.73388303300004,-74.00542831099993,\"(40.73388303300004, -74.00542831099993)\"']"
      ]
     },
     "execution_count": 13,
     "metadata": {},
     "output_type": "execute_result"
    }
   ],
   "source": [
    "data.take(10)"
   ]
  },
  {
   "cell_type": "code",
   "execution_count": 16,
   "metadata": {},
   "outputs": [
    {
     "name": "stdout",
     "output_type": "stream",
     "text": [
      "CMPLNT_NUM,ADDR_PCT_CD,BORO_NM,CMPLNT_FR_DT,CMPLNT_FR_TM,CMPLNT_TO_DT,CMPLNT_TO_TM,CRM_ATPT_CPTD_CD,HADEVELOPT,JURIS_DESC,KY_CD,LAW_CAT_CD,LOC_OF_OCCUR_DESC,OFNS_DESC,PARKS_NM,PD_CD,PD_DESC,PREM_TYP_DESC,RPT_DT,X_COORD_CD,Y_COORD_CD,Latitude,Longitude,Lat_Lon\n"
     ]
    }
   ],
   "source": [
    "header = data.first()\n",
    "print(header)"
   ]
  },
  {
   "cell_type": "code",
   "execution_count": 19,
   "metadata": {},
   "outputs": [],
   "source": [
    "dataWoHeader = data.filter(lambda x: x != header)"
   ]
  },
  {
   "cell_type": "code",
   "execution_count": 20,
   "metadata": {},
   "outputs": [
    {
     "data": {
      "text/plain": [
       "'403250906,26,MANHATTAN,01/01/2016,00:01:00,12/31/2017,23:59:00,COMPLETED,GRANT,N.Y. HOUSING POLICE,233,MISDEMEANOR,INSIDE,SEX CRIMES,,175,\"SEXUAL ABUSE 3,2\",RESIDENCE - PUBLIC HOUSING,01/02/2019,996241,236149,40.81485028900005,-73.95668184799997,\"(40.81485028900005, -73.95668184799997)\"'"
      ]
     },
     "execution_count": 20,
     "metadata": {},
     "output_type": "execute_result"
    }
   ],
   "source": [
    "dataWoHeader.first()"
   ]
  },
  {
   "cell_type": "code",
   "execution_count": 21,
   "metadata": {},
   "outputs": [
    {
     "data": {
      "text/plain": [
       "[['403250906',\n",
       "  '26',\n",
       "  'MANHATTAN',\n",
       "  '01/01/2016',\n",
       "  '00:01:00',\n",
       "  '12/31/2017',\n",
       "  '23:59:00',\n",
       "  'COMPLETED',\n",
       "  'GRANT',\n",
       "  'N.Y. HOUSING POLICE',\n",
       "  '233',\n",
       "  'MISDEMEANOR',\n",
       "  'INSIDE',\n",
       "  'SEX CRIMES',\n",
       "  '',\n",
       "  '175',\n",
       "  '\"SEXUAL ABUSE 3',\n",
       "  '2\"',\n",
       "  'RESIDENCE - PUBLIC HOUSING',\n",
       "  '01/02/2019',\n",
       "  '996241',\n",
       "  '236149',\n",
       "  '40.81485028900005',\n",
       "  '-73.95668184799997',\n",
       "  '\"(40.81485028900005',\n",
       "  ' -73.95668184799997)\"'],\n",
       " ['235290134',\n",
       "  '6',\n",
       "  'MANHATTAN',\n",
       "  '01/01/2016',\n",
       "  '12:00:00',\n",
       "  '03/01/2016',\n",
       "  '12:00:00',\n",
       "  'COMPLETED',\n",
       "  '',\n",
       "  'N.Y. POLICE DEPT',\n",
       "  '578',\n",
       "  'VIOLATION',\n",
       "  'INSIDE',\n",
       "  'HARRASSMENT 2',\n",
       "  '',\n",
       "  '638',\n",
       "  '\"HARASSMENT',\n",
       "  'SUBD 3',\n",
       "  '4',\n",
       "  '5\"',\n",
       "  'PHOTO/COPY',\n",
       "  '03/11/2019',\n",
       "  '981983',\n",
       "  '208095',\n",
       "  '40.73785727300003',\n",
       "  '-74.00818192199995',\n",
       "  '\"(40.73785727300003',\n",
       "  ' -74.00818192199995)\"'],\n",
       " ['983297347',\n",
       "  '23',\n",
       "  'MANHATTAN',\n",
       "  '01/01/2016',\n",
       "  '08:00:00',\n",
       "  '12/31/2017',\n",
       "  '08:00:00',\n",
       "  'ATTEMPTED',\n",
       "  '',\n",
       "  'N.Y. HOUSING POLICE',\n",
       "  '116',\n",
       "  'FELONY',\n",
       "  'INSIDE',\n",
       "  'SEX CRIMES',\n",
       "  '',\n",
       "  '177',\n",
       "  'SEXUAL ABUSE',\n",
       "  'RESIDENCE - PUBLIC HOUSING',\n",
       "  '04/28/2019',\n",
       "  '998730',\n",
       "  '226827',\n",
       "  '40.78926022400003',\n",
       "  '-73.94771000099996',\n",
       "  '\"(40.78926022400003',\n",
       "  ' -73.94771000099996)\"'],\n",
       " ['405538879',\n",
       "  '18',\n",
       "  'MANHATTAN',\n",
       "  '01/01/2016',\n",
       "  '17:00:00',\n",
       "  '04/05/2019',\n",
       "  '04:36:00',\n",
       "  'COMPLETED',\n",
       "  '',\n",
       "  'N.Y. POLICE DEPT',\n",
       "  '361',\n",
       "  'MISDEMEANOR',\n",
       "  'INSIDE',\n",
       "  'OFF. AGNST PUB ORD SENSBLTY &',\n",
       "  '',\n",
       "  '639',\n",
       "  'AGGRAVATED HARASSMENT 2',\n",
       "  'RESIDENCE - APT. HOUSE',\n",
       "  '05/15/2019',\n",
       "  '988408',\n",
       "  '219412',\n",
       "  '40.76891888700004',\n",
       "  '-73.98499030199997',\n",
       "  '\"(40.76891888700004',\n",
       "  ' -73.98499030199997)\"'],\n",
       " ['614924322',\n",
       "  '14',\n",
       "  'MANHATTAN',\n",
       "  '01/01/2016',\n",
       "  '00:01:00',\n",
       "  '',\n",
       "  '',\n",
       "  'COMPLETED',\n",
       "  '',\n",
       "  'N.Y. POLICE DEPT',\n",
       "  '109',\n",
       "  'FELONY',\n",
       "  'INSIDE',\n",
       "  'GRAND LARCENY',\n",
       "  '',\n",
       "  '430',\n",
       "  '\"LARCENY',\n",
       "  'GRAND BY BANK ACCT COMPROMISE-UNCLASSIFIED\"',\n",
       "  'BANK',\n",
       "  '09/11/2019',\n",
       "  '990247',\n",
       "  '212954',\n",
       "  '40.75119227300007',\n",
       "  '-73.97835693099995',\n",
       "  '\"(40.75119227300007',\n",
       "  ' -73.97835693099995)\"'],\n",
       " ['506003829',\n",
       "  '9',\n",
       "  'MANHATTAN',\n",
       "  '01/01/2016',\n",
       "  '21:00:00',\n",
       "  '01/02/2019',\n",
       "  '08:00:00',\n",
       "  'COMPLETED',\n",
       "  '',\n",
       "  'N.Y. POLICE DEPT',\n",
       "  '233',\n",
       "  'MISDEMEANOR',\n",
       "  'INSIDE',\n",
       "  'SEX CRIMES',\n",
       "  '',\n",
       "  '175',\n",
       "  '\"SEXUAL ABUSE 3',\n",
       "  '2\"',\n",
       "  'RESIDENCE - APT. HOUSE',\n",
       "  '10/17/2019',\n",
       "  '987624',\n",
       "  '203977',\n",
       "  '40.72655401900005',\n",
       "  '-73.98782842699995',\n",
       "  '\"(40.72655401900005',\n",
       "  ' -73.98782842699995)\"'],\n",
       " ['932184137',\n",
       "  '34',\n",
       "  'MANHATTAN',\n",
       "  '01/01/2016',\n",
       "  '00:00:00',\n",
       "  '11/30/2019',\n",
       "  '22:00:00',\n",
       "  'COMPLETED',\n",
       "  '',\n",
       "  'N.Y. POLICE DEPT',\n",
       "  '116',\n",
       "  'FELONY',\n",
       "  'INSIDE',\n",
       "  'SEX CRIMES',\n",
       "  '',\n",
       "  '177',\n",
       "  'SEXUAL ABUSE',\n",
       "  'RESIDENCE - APT. HOUSE',\n",
       "  '12/14/2019',\n",
       "  '1002106',\n",
       "  '249501',\n",
       "  '40.85148777400008',\n",
       "  '-73.93545796699993',\n",
       "  '\"(40.85148777400008',\n",
       "  ' -73.93545796699993)\"'],\n",
       " ['965893271',\n",
       "  '25',\n",
       "  'MANHATTAN',\n",
       "  '01/02/2016',\n",
       "  '09:00:00',\n",
       "  '01/02/2017',\n",
       "  '18:30:00',\n",
       "  'COMPLETED',\n",
       "  '',\n",
       "  'N.Y. POLICE DEPT',\n",
       "  '341',\n",
       "  'MISDEMEANOR',\n",
       "  'INSIDE',\n",
       "  'PETIT LARCENY',\n",
       "  '',\n",
       "  '338',\n",
       "  '\"LARCENY',\n",
       "  'PETIT FROM BUILDING',\n",
       "  'UN\"',\n",
       "  'RESIDENCE - APT. HOUSE',\n",
       "  '06/04/2019',\n",
       "  '999525',\n",
       "  '231804',\n",
       "  '40.802919400000064',\n",
       "  '-73.94482770699994',\n",
       "  '\"(40.802919400000064',\n",
       "  ' -73.94482770699994)\"'],\n",
       " ['886223360',\n",
       "  '6',\n",
       "  'MANHATTAN',\n",
       "  '01/14/2016',\n",
       "  '13:00:00',\n",
       "  '07/31/2019',\n",
       "  '16:00:00',\n",
       "  'COMPLETED',\n",
       "  '',\n",
       "  'N.Y. POLICE DEPT',\n",
       "  '351',\n",
       "  'MISDEMEANOR',\n",
       "  'INSIDE',\n",
       "  'CRIMINAL MISCHIEF & RELATED OF',\n",
       "  '',\n",
       "  '259',\n",
       "  '\"CRIMINAL MISCHIEF',\n",
       "  'UNCLASSIFIED 4\"',\n",
       "  'OTHER',\n",
       "  '07/31/2019',\n",
       "  '982746',\n",
       "  '206647',\n",
       "  '40.73388303300004',\n",
       "  '-74.00542831099993',\n",
       "  '\"(40.73388303300004',\n",
       "  ' -74.00542831099993)\"'],\n",
       " ['102770636',\n",
       "  '26',\n",
       "  'MANHATTAN',\n",
       "  '01/20/2016',\n",
       "  '15:00:00',\n",
       "  '',\n",
       "  '',\n",
       "  'COMPLETED',\n",
       "  '',\n",
       "  'N.Y. POLICE DEPT',\n",
       "  '578',\n",
       "  'VIOLATION',\n",
       "  'INSIDE',\n",
       "  'HARRASSMENT 2',\n",
       "  '',\n",
       "  '638',\n",
       "  '\"HARASSMENT',\n",
       "  'SUBD 3',\n",
       "  '4',\n",
       "  '5\"',\n",
       "  'RESIDENCE - APT. HOUSE',\n",
       "  '07/21/2019',\n",
       "  '996894',\n",
       "  '236589',\n",
       "  '40.816057056000034',\n",
       "  '-73.95432194199999',\n",
       "  '\"(40.816057056000034',\n",
       "  ' -73.95432194199999)\"']]"
      ]
     },
     "execution_count": 21,
     "metadata": {},
     "output_type": "execute_result"
    }
   ],
   "source": [
    "dataWoHeader.map(lambda x: x.split(\",\")).take(10)"
   ]
  },
  {
   "cell_type": "code",
   "execution_count": 24,
   "metadata": {},
   "outputs": [],
   "source": [
    "import csv\n",
    "from io import StringIO\n",
    "from collections import namedtuple"
   ]
  },
  {
   "cell_type": "code",
   "execution_count": 26,
   "metadata": {},
   "outputs": [
    {
     "data": {
      "text/plain": [
       "'CMPLNT_NUM,ADDR_PCT_CD,BORO_NM,CMPLNT_FR_DT,CMPLNT_FR_TM,CMPLNT_TO_DT,CMPLNT_TO_TM,CRM_ATPT_CPTD_CD,HADEVELOPT,JURIS_DESC,KY_CD,LAW_CAT_CD,LOC_OF_OCCUR_DESC,OFNS_DESC,PARKS_NM,PD_CD,PD_DESC,PREM_TYP_DESC,RPT_DT,X_COORD_CD,Y_COORD_CD,Latitude,Longitude,Lat_Lon'"
      ]
     },
     "execution_count": 26,
     "metadata": {},
     "output_type": "execute_result"
    }
   ],
   "source": [
    "header"
   ]
  },
  {
   "cell_type": "code",
   "execution_count": 27,
   "metadata": {},
   "outputs": [],
   "source": [
    "fields = header.replace(' ','_').replace('/','_').split(',')"
   ]
  },
  {
   "cell_type": "code",
   "execution_count": 28,
   "metadata": {},
   "outputs": [
    {
     "data": {
      "text/plain": [
       "['CMPLNT_NUM',\n",
       " 'ADDR_PCT_CD',\n",
       " 'BORO_NM',\n",
       " 'CMPLNT_FR_DT',\n",
       " 'CMPLNT_FR_TM',\n",
       " 'CMPLNT_TO_DT',\n",
       " 'CMPLNT_TO_TM',\n",
       " 'CRM_ATPT_CPTD_CD',\n",
       " 'HADEVELOPT',\n",
       " 'JURIS_DESC',\n",
       " 'KY_CD',\n",
       " 'LAW_CAT_CD',\n",
       " 'LOC_OF_OCCUR_DESC',\n",
       " 'OFNS_DESC',\n",
       " 'PARKS_NM',\n",
       " 'PD_CD',\n",
       " 'PD_DESC',\n",
       " 'PREM_TYP_DESC',\n",
       " 'RPT_DT',\n",
       " 'X_COORD_CD',\n",
       " 'Y_COORD_CD',\n",
       " 'Latitude',\n",
       " 'Longitude',\n",
       " 'Lat_Lon']"
      ]
     },
     "execution_count": 28,
     "metadata": {},
     "output_type": "execute_result"
    }
   ],
   "source": [
    "fields"
   ]
  },
  {
   "cell_type": "code",
   "execution_count": 30,
   "metadata": {},
   "outputs": [],
   "source": [
    "Crime = namedtuple('Crime', fields)"
   ]
  },
  {
   "cell_type": "code",
   "execution_count": 36,
   "metadata": {},
   "outputs": [],
   "source": [
    "def parse(row):\n",
    "    reader = csv.reader(StringIO(row))\n",
    "    row=next(reader)\n",
    "    return Crime(*row)"
   ]
  },
  {
   "cell_type": "code",
   "execution_count": 38,
   "metadata": {},
   "outputs": [],
   "source": [
    "crimes = dataWoHeader.map(parse)"
   ]
  },
  {
   "cell_type": "code",
   "execution_count": 39,
   "metadata": {},
   "outputs": [],
   "source": [
    "def parse(row):\n",
    "    reader = csv.reader(StringIO(row))\n",
    "    row=next(reader)\n",
    "    return Crime(*row)"
   ]
  },
  {
   "cell_type": "code",
   "execution_count": 40,
   "metadata": {},
   "outputs": [],
   "source": [
    "crimes = dataWoHeader.map(parse)"
   ]
  },
  {
   "cell_type": "code",
   "execution_count": 41,
   "metadata": {},
   "outputs": [
    {
     "data": {
      "text/plain": [
       "Crime(CMPLNT_NUM='403250906', ADDR_PCT_CD='26', BORO_NM='MANHATTAN', CMPLNT_FR_DT='01/01/2016', CMPLNT_FR_TM='00:01:00', CMPLNT_TO_DT='12/31/2017', CMPLNT_TO_TM='23:59:00', CRM_ATPT_CPTD_CD='COMPLETED', HADEVELOPT='GRANT', JURIS_DESC='N.Y. HOUSING POLICE', KY_CD='233', LAW_CAT_CD='MISDEMEANOR', LOC_OF_OCCUR_DESC='INSIDE', OFNS_DESC='SEX CRIMES', PARKS_NM='', PD_CD='175', PD_DESC='SEXUAL ABUSE 3,2', PREM_TYP_DESC='RESIDENCE - PUBLIC HOUSING', RPT_DT='01/02/2019', X_COORD_CD='996241', Y_COORD_CD='236149', Latitude='40.81485028900005', Longitude='-73.95668184799997', Lat_Lon='(40.81485028900005, -73.95668184799997)')"
      ]
     },
     "execution_count": 41,
     "metadata": {},
     "output_type": "execute_result"
    }
   ],
   "source": [
    "crimes.first()"
   ]
  },
  {
   "cell_type": "code",
   "execution_count": 43,
   "metadata": {},
   "outputs": [
    {
     "data": {
      "text/plain": [
       "'403250906'"
      ]
     },
     "execution_count": 43,
     "metadata": {},
     "output_type": "execute_result"
    }
   ],
   "source": [
    "crimes.first().CMPLNT_NUM"
   ]
  },
  {
   "cell_type": "code",
   "execution_count": 46,
   "metadata": {},
   "outputs": [
    {
     "data": {
      "text/plain": [
       "['01', '01', '2016']"
      ]
     },
     "execution_count": 46,
     "metadata": {},
     "output_type": "execute_result"
    }
   ],
   "source": [
    "crimes.first().CMPLNT_FR_DT.split(\"/\")"
   ]
  },
  {
   "cell_type": "code",
   "execution_count": 48,
   "metadata": {},
   "outputs": [
    {
     "data": {
      "text/plain": [
       "'2016'"
      ]
     },
     "execution_count": 48,
     "metadata": {},
     "output_type": "execute_result"
    }
   ],
   "source": [
    "crimes.first().CMPLNT_FR_DT.split(\"/\")[-1]"
   ]
  },
  {
   "cell_type": "code",
   "execution_count": 50,
   "metadata": {},
   "outputs": [
    {
     "data": {
      "text/plain": [
       "defaultdict(int, {'2017': 11, '2016': 19, '2019': 31, '': 18, '2018': 7})"
      ]
     },
     "execution_count": 50,
     "metadata": {},
     "output_type": "execute_result"
    }
   ],
   "source": [
    "crimes.map(lambda x:x.CMPLNT_TO_DT.split(\"/\")[-1]).countByValue()"
   ]
  },
  {
   "cell_type": "code",
   "execution_count": 51,
   "metadata": {},
   "outputs": [
    {
     "data": {
      "text/plain": [
       "86"
      ]
     },
     "execution_count": 51,
     "metadata": {},
     "output_type": "execute_result"
    }
   ],
   "source": [
    "crimes.count()"
   ]
  },
  {
   "cell_type": "code",
   "execution_count": 52,
   "metadata": {},
   "outputs": [],
   "source": [
    "# Files downloaded from http://archive.ics.uci.edu/ml/machine-learning-databases/event-detection/\n",
    "\n",
    "trafficPath = \"file:///Users/ss055088/downloads/Dodgers.data\"\n",
    "gamesPath = \"file:///Users/ss055088/downloads/Dodgers.events\""
   ]
  },
  {
   "cell_type": "code",
   "execution_count": 53,
   "metadata": {},
   "outputs": [],
   "source": [
    "traffic = sc.textFile(trafficPath)"
   ]
  },
  {
   "cell_type": "code",
   "execution_count": 54,
   "metadata": {},
   "outputs": [
    {
     "data": {
      "text/plain": [
       "['4/10/2005 0:00,-1',\n",
       " '4/10/2005 0:05,-1',\n",
       " '4/10/2005 0:10,-1',\n",
       " '4/10/2005 0:15,-1',\n",
       " '4/10/2005 0:20,-1',\n",
       " '4/10/2005 0:25,-1',\n",
       " '4/10/2005 0:30,-1',\n",
       " '4/10/2005 0:35,-1',\n",
       " '4/10/2005 0:40,-1',\n",
       " '4/10/2005 0:45,-1']"
      ]
     },
     "execution_count": 54,
     "metadata": {},
     "output_type": "execute_result"
    }
   ],
   "source": [
    "traffic.take(10)"
   ]
  },
  {
   "cell_type": "code",
   "execution_count": 55,
   "metadata": {},
   "outputs": [],
   "source": [
    "games = sc.textFile(gamesPath)"
   ]
  },
  {
   "cell_type": "code",
   "execution_count": 56,
   "metadata": {},
   "outputs": [
    {
     "data": {
      "text/plain": [
       "['04/12/05,13:10:00,16:23:00,55892,San Francisco,W 9-8�',\n",
       " '04/13/05,19:10:00,21:48:00,46514,San Francisco,W 4-1�',\n",
       " '04/15/05,19:40:00,21:48:00,51816,San Diego,W 4-0�',\n",
       " '04/16/05,19:10:00,21:52:00,54704,San Diego,W 8-3�',\n",
       " '04/17/05,13:10:00,15:31:00,53402,San Diego,W 6-0�',\n",
       " '04/25/05,19:10:00,21:33:00,36876,Arizona,L 4-2�',\n",
       " '04/26/05,19:10:00,22:00:00,44486,Arizona,L 3-2�',\n",
       " '04/27/05,19:10:00,22:17:00,54387,Arizona,L 6-3�',\n",
       " '04/29/05,19:40:00,22:01:00,40150,Colorado,W 6-3�',\n",
       " '04/30/05,19:10:00,21:45:00,54123,Colorado,W 6-2�']"
      ]
     },
     "execution_count": 56,
     "metadata": {},
     "output_type": "execute_result"
    }
   ],
   "source": [
    "games.take(10)"
   ]
  },
  {
   "cell_type": "code",
   "execution_count": 68,
   "metadata": {},
   "outputs": [],
   "source": [
    "from datetime import datetime\n",
    "import csv\n",
    "import csv\n",
    "\n",
    "def parseTraffic(row):\n",
    "    DATE_FMT = \"%m/%d/%Y %H:%M\"\n",
    "    row = row.split(',')\n",
    "    row[0] = datetime.strptime(row[0], DATE_FMT)\n",
    "    row[1] = int(row[1])\n",
    "    return (row[0], row[1])"
   ]
  },
  {
   "cell_type": "code",
   "execution_count": 91,
   "metadata": {},
   "outputs": [
    {
     "data": {
      "text/plain": [
       "[(datetime.datetime(2005, 4, 10, 0, 0), -1),\n",
       " (datetime.datetime(2005, 4, 10, 0, 5), -1),\n",
       " (datetime.datetime(2005, 4, 10, 0, 10), -1),\n",
       " (datetime.datetime(2005, 4, 10, 0, 15), -1),\n",
       " (datetime.datetime(2005, 4, 10, 0, 20), -1),\n",
       " (datetime.datetime(2005, 4, 10, 0, 25), -1),\n",
       " (datetime.datetime(2005, 4, 10, 0, 30), -1),\n",
       " (datetime.datetime(2005, 4, 10, 0, 35), -1),\n",
       " (datetime.datetime(2005, 4, 10, 0, 40), -1),\n",
       " (datetime.datetime(2005, 4, 10, 0, 45), -1)]"
      ]
     },
     "execution_count": 91,
     "metadata": {},
     "output_type": "execute_result"
    }
   ],
   "source": [
    "# Number of cars passed by in 5 mins time interval\n",
    "\n",
    "trafficParsed = traffic.map(parseTraffic)\n",
    "trafficParsed.take(10)"
   ]
  },
  {
   "cell_type": "code",
   "execution_count": 89,
   "metadata": {},
   "outputs": [],
   "source": [
    "# Summarizing a pair RDD\n",
    "# How many cars are passing by dodgers stadium each day using redueByKey\n",
    "\n",
    "dailyTrend = trafficParsed.map(lambda x: (x[0].date(), x[1]))\\\n",
    "                        .reduceByKey(lambda x, y: x + y)"
   ]
  },
  {
   "cell_type": "code",
   "execution_count": 90,
   "metadata": {},
   "outputs": [
    {
     "data": {
      "text/plain": [
       "[(datetime.date(2005, 4, 10), -288),\n",
       " (datetime.date(2005, 4, 11), 5062),\n",
       " (datetime.date(2005, 4, 14), 6423),\n",
       " (datetime.date(2005, 4, 15), 6459),\n",
       " (datetime.date(2005, 4, 16), 6002),\n",
       " (datetime.date(2005, 4, 17), 5322),\n",
       " (datetime.date(2005, 4, 18), 5600),\n",
       " (datetime.date(2005, 4, 19), 6049),\n",
       " (datetime.date(2005, 4, 21), 5977),\n",
       " (datetime.date(2005, 4, 22), 6038)]"
      ]
     },
     "execution_count": 90,
     "metadata": {},
     "output_type": "execute_result"
    }
   ],
   "source": [
    "dailyTrend.take(10)"
   ]
  },
  {
   "cell_type": "code",
   "execution_count": 75,
   "metadata": {},
   "outputs": [
    {
     "data": {
      "text/plain": [
       "[(datetime.date(2005, 7, 28), 7661),\n",
       " (datetime.date(2005, 7, 29), 7499),\n",
       " (datetime.date(2005, 8, 12), 7287),\n",
       " (datetime.date(2005, 7, 27), 7238),\n",
       " (datetime.date(2005, 9, 23), 7175),\n",
       " (datetime.date(2005, 7, 26), 7163),\n",
       " (datetime.date(2005, 5, 20), 7119),\n",
       " (datetime.date(2005, 8, 11), 7110),\n",
       " (datetime.date(2005, 9, 8), 7107),\n",
       " (datetime.date(2005, 9, 7), 7082)]"
      ]
     },
     "execution_count": 75,
     "metadata": {},
     "output_type": "execute_result"
    }
   ],
   "source": [
    "# Which days had most traffic\n",
    "\n",
    "dailyTrend.sortBy(lambda x: -x[1]).take(10)"
   ]
  },
  {
   "cell_type": "code",
   "execution_count": 80,
   "metadata": {},
   "outputs": [
    {
     "data": {
      "text/plain": [
       "[(datetime.date(2005, 4, 12), 'San Francisco'),\n",
       " (datetime.date(2005, 4, 13), 'San Francisco'),\n",
       " (datetime.date(2005, 4, 15), 'San Diego'),\n",
       " (datetime.date(2005, 4, 16), 'San Diego'),\n",
       " (datetime.date(2005, 4, 17), 'San Diego'),\n",
       " (datetime.date(2005, 4, 25), 'Arizona'),\n",
       " (datetime.date(2005, 4, 26), 'Arizona'),\n",
       " (datetime.date(2005, 4, 27), 'Arizona'),\n",
       " (datetime.date(2005, 4, 29), 'Colorado'),\n",
       " (datetime.date(2005, 4, 30), 'Colorado')]"
      ]
     },
     "execution_count": 80,
     "metadata": {},
     "output_type": "execute_result"
    }
   ],
   "source": [
    "# Joining with Games\n",
    "# Are dodgers were playing in the stadium?\n",
    "\n",
    "def parseGame(row):\n",
    "    DATE_FMT = '%m/%d/%y'\n",
    "    row = row.split(',')\n",
    "    row[0] = datetime.strptime(row[0], DATE_FMT).date()\n",
    "    # row[4] is the oppononet name\n",
    "    return (row[0], row[4])\n",
    "\n",
    "gamesParsed = games.map(parseGame)\n",
    "gamesParsed.take(10)"
   ]
  },
  {
   "cell_type": "code",
   "execution_count": 81,
   "metadata": {},
   "outputs": [],
   "source": [
    "dailyTrendCombined = dailyTrend.leftOuterJoin(gamesParsed)"
   ]
  },
  {
   "cell_type": "code",
   "execution_count": 82,
   "metadata": {},
   "outputs": [
    {
     "data": {
      "text/plain": [
       "[(datetime.date(2005, 4, 11), (5062, None)),\n",
       " (datetime.date(2005, 4, 15), (6459, 'San Diego')),\n",
       " (datetime.date(2005, 4, 17), (5322, 'San Diego')),\n",
       " (datetime.date(2005, 4, 19), (6049, None)),\n",
       " (datetime.date(2005, 4, 21), (5977, None)),\n",
       " (datetime.date(2005, 4, 22), (6038, None)),\n",
       " (datetime.date(2005, 4, 23), (5366, None)),\n",
       " (datetime.date(2005, 4, 24), (4319, None)),\n",
       " (datetime.date(2005, 4, 25), (6280, 'Arizona')),\n",
       " (datetime.date(2005, 4, 30), (6090, 'Colorado'))]"
      ]
     },
     "execution_count": 82,
     "metadata": {},
     "output_type": "execute_result"
    }
   ],
   "source": [
    "dailyTrendCombined.take(10)"
   ]
  },
  {
   "cell_type": "code",
   "execution_count": 83,
   "metadata": {},
   "outputs": [],
   "source": [
    "# Does the top 10 days of traffic has the game or not?\n",
    "def checkGameDay(row):\n",
    "    if row[1][1] == None:\n",
    "        return (row[0], row[1][1], 'Regular Day', row[1][0])\n",
    "    else:\n",
    "        return (row[0], row[1][1], 'Game Day', row[1][0])\n",
    "dailyTrendGames = dailyTrendCombined.map(checkGameDay)"
   ]
  },
  {
   "cell_type": "code",
   "execution_count": 84,
   "metadata": {},
   "outputs": [
    {
     "data": {
      "text/plain": [
       "[(datetime.date(2005, 4, 11), None, 'Regular Day', 5062),\n",
       " (datetime.date(2005, 4, 15), 'San Diego', 'Game Day', 6459),\n",
       " (datetime.date(2005, 4, 17), 'San Diego', 'Game Day', 5322),\n",
       " (datetime.date(2005, 4, 19), None, 'Regular Day', 6049),\n",
       " (datetime.date(2005, 4, 21), None, 'Regular Day', 5977),\n",
       " (datetime.date(2005, 4, 22), None, 'Regular Day', 6038),\n",
       " (datetime.date(2005, 4, 23), None, 'Regular Day', 5366),\n",
       " (datetime.date(2005, 4, 24), None, 'Regular Day', 4319),\n",
       " (datetime.date(2005, 4, 25), 'Arizona', 'Game Day', 6280),\n",
       " (datetime.date(2005, 4, 30), 'Colorado', 'Game Day', 6090)]"
      ]
     },
     "execution_count": 84,
     "metadata": {},
     "output_type": "execute_result"
    }
   ],
   "source": [
    "dailyTrendGames.take(10)"
   ]
  },
  {
   "cell_type": "code",
   "execution_count": 85,
   "metadata": {},
   "outputs": [
    {
     "data": {
      "text/plain": [
       "[(datetime.date(2005, 7, 28), 'Cincinnati', 'Game Day', 7661),\n",
       " (datetime.date(2005, 7, 29), 'St. Louis', 'Game Day', 7499),\n",
       " (datetime.date(2005, 8, 12), 'NY Mets', 'Game Day', 7287),\n",
       " (datetime.date(2005, 7, 27), 'Cincinnati', 'Game Day', 7238),\n",
       " (datetime.date(2005, 9, 23), 'Pittsburgh', 'Game Day', 7175),\n",
       " (datetime.date(2005, 7, 26), 'Cincinnati', 'Game Day', 7163),\n",
       " (datetime.date(2005, 5, 20), 'LA Angels', 'Game Day', 7119),\n",
       " (datetime.date(2005, 8, 11), 'Philadelphia', 'Game Day', 7110),\n",
       " (datetime.date(2005, 9, 8), None, 'Regular Day', 7107),\n",
       " (datetime.date(2005, 9, 7), 'San Francisco', 'Game Day', 7082)]"
      ]
     },
     "execution_count": 85,
     "metadata": {},
     "output_type": "execute_result"
    }
   ],
   "source": [
    "dailyTrendGames.sortBy(lambda x:-x[3]).take(10)"
   ]
  },
  {
   "cell_type": "code",
   "execution_count": 88,
   "metadata": {},
   "outputs": [
    {
     "data": {
      "text/plain": [
       "[('Regular Day', 5411.329787234043), ('Game Day', 5948.604938271605)]"
      ]
     },
     "execution_count": 88,
     "metadata": {},
     "output_type": "execute_result"
    }
   ],
   "source": [
    "# Average on a game day vs on non-game day using combineByKey\n",
    "\n",
    "dailyTrendGames.map(lambda x: (x[2], x[3]))\\\n",
    "            .combineByKey(lambda value: (value, 1),\\\n",
    "        lambda acc, value: (acc[0] + value, acc[1] + 1),\\\n",
    "        lambda acc1, acc2: (acc1[0] + acc2[0], acc1[1] + acc2[1]))\\\n",
    "        .mapValues(lambda x: x[0]/x[1])\\\n",
    "        .collect()"
   ]
  },
  {
   "cell_type": "code",
   "execution_count": 92,
   "metadata": {},
   "outputs": [],
   "source": [
    "# Marvel characters http://bioinfo.uib.es/~recerca/marvel.html\n",
    "\n",
    "booksPath = 'file:///Users/ss055088/Documents/Tutorials/Spark/Marvel/books.txt'\n",
    "charactersPath = 'file:///Users/ss055088/Documents/Tutorials/Spark/Marvel/characters.txt'\n",
    "edgesPath = 'file:///Users/ss055088/Documents/Tutorials/Spark/Marvel/edges.txt'"
   ]
  },
  {
   "cell_type": "code",
   "execution_count": 93,
   "metadata": {},
   "outputs": [],
   "source": [
    "books = sc.textFile(booksPath)\n",
    "characters = sc.textFile(charactersPath)\n",
    "edges = sc.textFile(edgesPath)"
   ]
  },
  {
   "cell_type": "code",
   "execution_count": 94,
   "metadata": {},
   "outputs": [
    {
     "data": {
      "text/plain": [
       "['Vertex 6487: AA2 35',\n",
       " 'Vertex 6488: M/PRM 35',\n",
       " 'Vertex 6489: M/PRM 36',\n",
       " 'Vertex 6490: M/PRM 37',\n",
       " 'Vertex 6491: WI? 9',\n",
       " 'Vertex 6492: AVF 4',\n",
       " 'Vertex 6493: AVF 5',\n",
       " 'Vertex 6494: H2 251',\n",
       " 'Vertex 6495: H2 252',\n",
       " 'Vertex 6496: COC 1']"
      ]
     },
     "execution_count": 94,
     "metadata": {},
     "output_type": "execute_result"
    }
   ],
   "source": [
    "books.take(10)"
   ]
  },
  {
   "cell_type": "code",
   "execution_count": 95,
   "metadata": {},
   "outputs": [
    {
     "data": {
      "text/plain": [
       "['Vertex 1: 24-HOUR MAN/EMMANUEL',\n",
       " 'Vertex 2: 3-D MAN/CHARLES CHANDLER & HAROLD CHANDLER',\n",
       " 'Vertex 3: 4-D MAN/MERCURIO',\n",
       " 'Vertex 4: 8-BALL/',\n",
       " 'Vertex 5: A',\n",
       " \"Vertex 6: A'YIN\",\n",
       " 'Vertex 7: ABBOTT, JACK',\n",
       " 'Vertex 8: ABCISSA',\n",
       " 'Vertex 9: ABEL',\n",
       " 'Vertex 10: ABOMINATION/EMIL BLONSKY']"
      ]
     },
     "execution_count": 95,
     "metadata": {},
     "output_type": "execute_result"
    }
   ],
   "source": [
    "characters.take(10)"
   ]
  },
  {
   "cell_type": "code",
   "execution_count": 96,
   "metadata": {},
   "outputs": [
    {
     "data": {
      "text/plain": [
       "['*Vertices 19428 6486',\n",
       " '1 \"24-HOUR MAN/EMMANUEL\"',\n",
       " '2 \"3-D MAN/CHARLES CHAN\"',\n",
       " '3 \"4-D MAN/MERCURIO\"',\n",
       " '4 \"8-BALL/\"',\n",
       " '5 \"A\"',\n",
       " '6 \"A\\'YIN\"',\n",
       " '7 \"ABBOTT, JACK\"',\n",
       " '8 \"ABCISSA\"',\n",
       " '9 \"ABEL\"']"
      ]
     },
     "execution_count": 96,
     "metadata": {},
     "output_type": "execute_result"
    }
   ],
   "source": [
    "edges.take(10)"
   ]
  },
  {
   "cell_type": "code",
   "execution_count": 99,
   "metadata": {},
   "outputs": [],
   "source": [
    "# Filtering out the rows containing vertices and keeping only edges\n",
    "\n",
    "def edgeFilter(row):\n",
    "    if '*' in row or '\"' in row:\n",
    "        return False\n",
    "    else:\n",
    "        return True\n",
    "edgesFiltered = edges.filter(edgeFilter)"
   ]
  },
  {
   "cell_type": "code",
   "execution_count": 100,
   "metadata": {},
   "outputs": [
    {
     "data": {
      "text/plain": [
       "['1 6487',\n",
       " '2 6488 6489 6490 6491 6492 6493 6494 6495 6496',\n",
       " '3 6497 6498 6499 6500 6501 6502 6503 6504 6505',\n",
       " '4 6506 6507 6508',\n",
       " '5 6509 6510 6511',\n",
       " '6 6512 6513 6514 6515',\n",
       " '7 6516',\n",
       " '8 6517 6518',\n",
       " '9 6519 6520',\n",
       " '10 6521 6522 6523 6524 6525 6526 6527 6528 6529 6530 6531 6532 6533 6534 6535']"
      ]
     },
     "execution_count": 100,
     "metadata": {},
     "output_type": "execute_result"
    }
   ],
   "source": [
    "edgesFiltered.take(10)"
   ]
  },
  {
   "cell_type": "code",
   "execution_count": 102,
   "metadata": {},
   "outputs": [],
   "source": [
    "# Important Characters (Nodes/characters that are connected to most number of books)\n",
    "\n",
    "characterBookMap = edgesFiltered.map(lambda x: x.split())\\\n",
    "                                .map(lambda x: (x[0], x[1:]))"
   ]
  },
  {
   "cell_type": "code",
   "execution_count": 103,
   "metadata": {},
   "outputs": [
    {
     "data": {
      "text/plain": [
       "[('1', ['6487']),\n",
       " ('2',\n",
       "  ['6488', '6489', '6490', '6491', '6492', '6493', '6494', '6495', '6496']),\n",
       " ('3',\n",
       "  ['6497', '6498', '6499', '6500', '6501', '6502', '6503', '6504', '6505']),\n",
       " ('4', ['6506', '6507', '6508']),\n",
       " ('5', ['6509', '6510', '6511']),\n",
       " ('6', ['6512', '6513', '6514', '6515']),\n",
       " ('7', ['6516']),\n",
       " ('8', ['6517', '6518']),\n",
       " ('9', ['6519', '6520']),\n",
       " ('10',\n",
       "  ['6521',\n",
       "   '6522',\n",
       "   '6523',\n",
       "   '6524',\n",
       "   '6525',\n",
       "   '6526',\n",
       "   '6527',\n",
       "   '6528',\n",
       "   '6529',\n",
       "   '6530',\n",
       "   '6531',\n",
       "   '6532',\n",
       "   '6533',\n",
       "   '6534',\n",
       "   '6535'])]"
      ]
     },
     "execution_count": 103,
     "metadata": {},
     "output_type": "execute_result"
    }
   ],
   "source": [
    "characterBookMap.take(10)"
   ]
  },
  {
   "cell_type": "code",
   "execution_count": 105,
   "metadata": {},
   "outputs": [],
   "source": [
    "# Map chacter name with the character id\n",
    "\n",
    "def charParse(row):\n",
    "    # split id and character name\n",
    "    row = row.split(':')\n",
    "    # remove fluff\n",
    "    return (row[0][7:], row[1].strip())\n",
    "\n",
    "characterLookup = characters.map(charParse).collectAsMap()"
   ]
  },
  {
   "cell_type": "code",
   "execution_count": 106,
   "metadata": {},
   "outputs": [
    {
     "data": {
      "text/plain": [
       "{'1': '24-HOUR MAN/EMMANUEL',\n",
       " '2': '3-D MAN/CHARLES CHANDLER & HAROLD CHANDLER',\n",
       " '3': '4-D MAN/MERCURIO',\n",
       " '4': '8-BALL/',\n",
       " '5': 'A',\n",
       " '6': \"A'YIN\",\n",
       " '7': 'ABBOTT, JACK',\n",
       " '8': 'ABCISSA',\n",
       " '9': 'ABEL',\n",
       " '10': 'ABOMINATION/EMIL BLONSKY',\n",
       " '11': 'ABOMINATION | MUTANT X-VERSE',\n",
       " '12': 'ABOMINATRIX',\n",
       " '13': 'ABRAXAS',\n",
       " '14': 'ADAM 3,031',\n",
       " '15': 'ABSALOM',\n",
       " '16': 'ABSORBING MAN/CARL CRUSHER CREEL',\n",
       " '17': 'ABSORBING MAN | MUTANT X-VERSE',\n",
       " '18': 'ACBA',\n",
       " '19': 'ACHEBE, REVEREND DOCTOR MICHAEL IBN AL-HAJJ',\n",
       " '20': 'ACHILLES',\n",
       " '21': 'ACHILLES II/HELMUT',\n",
       " '22': 'ACROBAT/CARL ZANTE',\n",
       " '23': 'ADAM X',\n",
       " '24': 'ADAMS, CINDY',\n",
       " '25': 'ADAMS, CONGRESSMAN HENRY',\n",
       " '26': 'ADAMS, GEORGE',\n",
       " '27': 'ADAMS, MARTHA',\n",
       " '28': 'ADAMS, NICOLE NIKKI',\n",
       " '29': 'ADAMSON, JASON',\n",
       " '30': 'ADAMSON, REBECCA',\n",
       " '31': 'ADMIRAL PROTOCOL/',\n",
       " '32': 'ADORA',\n",
       " '33': 'ADORA CLONE',\n",
       " '34': 'ADRIA',\n",
       " '35': 'ADVA',\n",
       " '36': 'ADVENT/KYLE GROBE',\n",
       " '37': 'ADVERSARY',\n",
       " '38': 'AEGIS/TREY ROLLINS',\n",
       " '39': 'AENTAROS',\n",
       " '40': 'AFTERLIFE',\n",
       " '41': 'AGAMEMNON',\n",
       " '42': 'AGAMEMNON II/ANDREI ROSTOV',\n",
       " '43': 'AGAMEMNON III/',\n",
       " '44': 'AGAMOTTO',\n",
       " '45': 'AGARN, CAPT.',\n",
       " '46': 'AGED GENGHIS',\n",
       " '47': 'AGEE, DR. AUBREY',\n",
       " '48': 'AGEE, REBECCA',\n",
       " '49': 'AGENT AXIS/',\n",
       " '50': 'AGENT 18/JACK TRUMAN',\n",
       " '51': 'AGENT-X/',\n",
       " '52': 'AGGAMON',\n",
       " '53': 'AGINAR',\n",
       " '54': 'AGON',\n",
       " '55': 'AGONY/',\n",
       " '56': 'AGUIRRE, ISOBEL',\n",
       " '57': 'AHAB/RORY CAMPBELL',\n",
       " '58': 'AHQLAU',\n",
       " '59': 'AHURA',\n",
       " '60': 'AI-CHIA',\n",
       " '61': 'AINET',\n",
       " '62': 'AIR WALKER/ARLO SAMUELSON',\n",
       " '63': 'AIR-WALKER/GABRIEL LAN',\n",
       " '64': 'AIRBORNE/',\n",
       " '65': 'AIREO/AEOLUS [INHUMAN]',\n",
       " '66': 'AJAK/TECUMOTZIN [ETERNAL]',\n",
       " '67': 'AJAX',\n",
       " '68': 'AJAX II',\n",
       " '69': \"AJES'HA\",\n",
       " '70': 'AKAFE',\n",
       " '71': 'AKULIA',\n",
       " '72': 'AKUTAGAWA, OSAMU',\n",
       " '73': 'AL-KHALAD',\n",
       " '74': 'ALANYA',\n",
       " '75': 'ALBERIK',\n",
       " '76': 'ALBERT',\n",
       " '77': 'ALBINO/DR. AUGUSTA SEGER',\n",
       " '78': 'ALBUQUERQUE, JEREMIAH',\n",
       " '79': 'ALCHEMY/THOMAS JONES',\n",
       " '80': 'ALDEN, PROF. MEREDITH MCCALL',\n",
       " '81': 'ALEGRIA, RICHIE',\n",
       " '82': 'ALEXANDER, CALEB',\n",
       " '83': 'ALEXANDER, CARRIE',\n",
       " '84': 'ALFY',\n",
       " '85': 'ALIOTH',\n",
       " '86': 'ALIST',\n",
       " '87': 'ALISTRO',\n",
       " '88': 'ALLEN, TERRY',\n",
       " '89': 'ALOUETTE, GENARD',\n",
       " '90': 'ALPHA',\n",
       " '91': 'ALRAUNE, MARLENE',\n",
       " '92': 'ALVAREZ, CARLY',\n",
       " '93': 'ALVAREZ, PAUL',\n",
       " '94': 'ALVAREZ, FELIX',\n",
       " '95': 'AMAZO-MAXI-WOMAN/',\n",
       " '96': 'AMAZON',\n",
       " '97': 'AMENHOTEP',\n",
       " '98': 'AMERICAN EAGLE II/JAMES DORE',\n",
       " '99': 'AMERICAN EAGLE III/JASON STRONGBOW',\n",
       " '100': 'AMERICAN SAMURAI/',\n",
       " '101': 'AMERICOP/',\n",
       " '102': 'AMIKO',\n",
       " '103': 'AMINEDI',\n",
       " '104': 'AMPERE/',\n",
       " '105': 'AMPHARON',\n",
       " '106': 'AMPHIBIAN/KINGLEY RICE',\n",
       " '107': 'AMPHIBIUS',\n",
       " '108': 'ANACONDA/BLANCHE SITZNSKI',\n",
       " '109': 'ANAIS',\n",
       " '110': 'ANAK',\n",
       " '111': 'ANALYZER',\n",
       " '112': 'ANAMI, HIROSHI',\n",
       " '113': 'ANANASTASIA/ANNA',\n",
       " '114': 'ANARCHIST/TIKE ALICAR',\n",
       " '115': 'ANCESTOR/',\n",
       " '116': 'ANCIENT ONE',\n",
       " '117': 'ANCIENT ONE/BARON MORDO | MUTANT X-VERSE',\n",
       " '118': 'ANDERS, JOSHUA RICHIE',\n",
       " '119': 'ANDERSON, BAXTER',\n",
       " '120': 'ANDERSON, CHARLES',\n",
       " '121': 'ANDERSON, CHET',\n",
       " '122': 'ANDERSON, CHIEF MAGISTRATE TAM',\n",
       " '123': 'ANDERSON, GINA',\n",
       " '124': 'ANDERSON, MARJORIE',\n",
       " '125': 'ANDERSON, NICKY',\n",
       " '126': 'ANDERSSEN, TANYA',\n",
       " '127': 'ANDREWS, DARYL TROOP',\n",
       " '128': 'ANDROMEDA/ANDROMEDA ATTUMASEN [ATLANTEAN]',\n",
       " '129': 'ANDROS',\n",
       " '130': 'ANDWELLA',\n",
       " '131': 'ANELLE',\n",
       " '132': 'ANGAR THE SCREAMER/DAVID ANGAR',\n",
       " '133': 'ANGEL/WARREN KENNETH WORTHINGTON III',\n",
       " '134': 'ANGEL 2013',\n",
       " '135': 'ANGEL II/THOMAS HALLOWAY',\n",
       " '136': 'ANGEL III/HALLOWAY',\n",
       " '137': 'ANGEL IV',\n",
       " '138': 'ANGEL DOPPELGANGER',\n",
       " '139': 'ANGELOPOULOS, ANGEL III',\n",
       " '140': 'ANGKOR',\n",
       " '141': 'ANGLER',\n",
       " '142': 'ANGSTROM, EARL',\n",
       " '143': 'ANIELLE',\n",
       " '144': 'ANIMATOR/DR. FREDRICK ANIMUS',\n",
       " '145': 'ANIMATOR II/',\n",
       " '146': 'ANIMUS',\n",
       " '147': 'ANNALEE',\n",
       " '148': 'ANNIHILUS',\n",
       " '149': 'ANOMALY',\n",
       " '150': 'ANOMALY III',\n",
       " '151': 'ANON, LORD',\n",
       " '152': 'ANSWER',\n",
       " '153': 'ANSWER II/DAVID FERRARI',\n",
       " '154': 'ANT-MAN/DR. HENRY J. PYM',\n",
       " '155': 'ANT-MAN II/SCOTT HARRIS LANG',\n",
       " '156': 'ANTEUS',\n",
       " '157': 'ANTHROMORPHO',\n",
       " '158': 'ANTI-PHOENIX',\n",
       " '159': 'ANTI-VISION',\n",
       " '160': 'ANTIBODY',\n",
       " '161': 'ANTIQUARY/',\n",
       " '162': 'ANTOINETTE, MARIE',\n",
       " '163': 'ANTORO',\n",
       " '164': 'ANTRO',\n",
       " '165': 'ANUBAR, ANWAR',\n",
       " '166': 'ANUBIA',\n",
       " '167': 'ANVIL/JOHNNY ANVIL',\n",
       " '168': 'APE/',\n",
       " '169': 'APE MAN/GORDON MONK KEEFER',\n",
       " '170': 'APE MAN II/ROY MCVEY',\n",
       " '171': 'APE-X/XINA',\n",
       " '172': 'APOCALYPSE/EN SABAH NUR',\n",
       " '173': 'APOCALYPSE | MUTANT X-VERSE',\n",
       " '174': 'APOCRYPHUS',\n",
       " '175': 'APOLLO [GREEK GOD]',\n",
       " '176': 'APOSTATE',\n",
       " '177': 'APPALLA',\n",
       " '178': 'APPLEBAUM, PHANTASY',\n",
       " '179': 'AQUARIAN/WUNDARR',\n",
       " '180': 'AQUARIUS/DARREN BENTLEY',\n",
       " '181': 'AQUARIUS II/',\n",
       " '182': 'AQUARIUS III/',\n",
       " '183': 'ARABIAN KNIGHT/ABDUL QAMAR',\n",
       " '184': 'ARACHNE',\n",
       " '185': 'ARAGORN',\n",
       " '186': \"ARAKI [SHI'AR]\",\n",
       " '187': 'ARAKI II',\n",
       " '188': 'ARBOGAST, BAMBI',\n",
       " '189': 'ARCADE/',\n",
       " '190': 'ARCADIUS',\n",
       " '191': 'ARCANNA/ARCANNA JONES',\n",
       " '192': 'ARCHAEOPTERYX/TONAJA [INHUMAN]',\n",
       " '193': 'ARCHER/JUDE BLACK',\n",
       " '194': 'ARCHER, ULYSSES SAMSON U.S.',\n",
       " '195': 'ARCLIGHT/PHILLIPA SONTAG',\n",
       " '196': 'ARCTURUS',\n",
       " '197': 'ARES [GREEK GOD]',\n",
       " '198': 'AREX',\n",
       " '199': 'ARGOS',\n",
       " '200': 'ARGOSY, HERVE',\n",
       " '201': 'ARIA',\n",
       " '202': 'ARIANE',\n",
       " '203': 'ARIDES',\n",
       " '204': 'ARIEL II',\n",
       " '205': 'ARIES/MARCUS LASSITER',\n",
       " '206': 'ARIES II/GROVER RAYMOND',\n",
       " '207': 'ARIES III/',\n",
       " '208': 'ARISHEM [CELESTIAL]',\n",
       " '209': 'ARIZE',\n",
       " '210': 'ARKANIAN, GLIB',\n",
       " '211': 'ARKO',\n",
       " '212': 'ARKON',\n",
       " '213': 'ARLINGTON, DR. MARCUS',\n",
       " '214': 'ARLISSE',\n",
       " '215': 'ARMADA',\n",
       " '216': 'ARMADA II/',\n",
       " '217': 'ARMADILLO/ANTONIO RODRIGUEZ',\n",
       " '218': 'ARMAGEDDON',\n",
       " '219': 'ARMAGEDDON MAN',\n",
       " '220': 'ARMAND',\n",
       " '221': 'ARMAROS',\n",
       " '222': 'ARMAZIEL',\n",
       " '223': 'ARMBRUSTER, COLONEL JOHN D. JACK',\n",
       " '224': 'ARMS MERCHANT/ANDREAS KAPELOS',\n",
       " '225': 'ARMSTRONG, ?',\n",
       " '226': 'ARMSTRONG, MYRA',\n",
       " '227': 'ARNSTROM',\n",
       " '228': 'ARON [WATCHER]',\n",
       " '229': 'ARRANGER/',\n",
       " '230': 'ARSENAL',\n",
       " '231': 'ARSENAL II',\n",
       " '232': 'ARSENIC',\n",
       " '233': 'ARTEMIS',\n",
       " '234': 'ARVAK',\n",
       " '235': 'ARYAN',\n",
       " '236': 'ASANO',\n",
       " '237': 'ASBERY, SHAMARI',\n",
       " '238': 'ASBESTOS LADY',\n",
       " '239': 'ASH, BRANDY',\n",
       " '240': 'ASHEMA [CELESTIAL]',\n",
       " '241': 'ASHER, CARL',\n",
       " '242': 'ASHER, DONNA',\n",
       " '243': 'ASHER, MICHAEL',\n",
       " '244': 'ASHUR',\n",
       " '245': 'ASKANI',\n",
       " '246': 'ASMODEUS',\n",
       " '247': 'ASP II/CLEO',\n",
       " '248': 'ASSAULT/',\n",
       " '249': 'ASTARTE',\n",
       " '250': 'ASTER, LUCIAN',\n",
       " '251': 'ASTRA',\n",
       " '252': 'ASTRA II',\n",
       " '253': 'ASTROLOGER/',\n",
       " '254': 'ASTRONOMER',\n",
       " '255': 'ASTROVIK, ARNOLD',\n",
       " '256': 'ASTROVIK, NORMA',\n",
       " '257': 'ASYLUM/',\n",
       " '258': 'ASYLUM II/HENRIQUE MANUEL GALLANTE',\n",
       " '259': 'ATALANTA',\n",
       " '260': 'ATHENA [GREEK GOD]',\n",
       " '261': 'ATKINSON, MAJ. EDMOND',\n",
       " '262': 'ATLAS',\n",
       " '263': 'ATLAS III',\n",
       " '264': 'ATOM SMASHER/',\n",
       " '265': 'ATOM SMASHER II/',\n",
       " '266': 'ATOM-SMASHER/',\n",
       " '267': 'ATOR, GENERAL',\n",
       " '268': 'ATTRACTIVE LAD/AUNDRAY',\n",
       " '269': 'ATTUMA',\n",
       " '270': 'AUGUST PERSONAGE IN JADE/YU-TI',\n",
       " '271': 'AUNTIE FREEZE/',\n",
       " '272': 'AURA/ANN HERD',\n",
       " '273': 'AURIC/',\n",
       " '274': 'AURORA/JEANNE-MARIE BAUBIER',\n",
       " '275': 'AURORA DOPPELGANGER',\n",
       " '276': 'AURORA | MUTANT X-VERSE',\n",
       " '277': 'AUSTIN, GEN.',\n",
       " '278': 'AUSTIN, SUSAN',\n",
       " '279': 'AUSTIN, TERRY',\n",
       " '280': 'AUTHIER, POLICE CHIEF',\n",
       " '281': 'AUTHIER, TRACY TRACE',\n",
       " '282': 'AUTHORITY/',\n",
       " '283': 'AUTOLYCUS',\n",
       " '284': 'AVALANCHE/DOMINIC PETROS',\n",
       " '285': 'AVANDALIA',\n",
       " '286': 'AVATAR',\n",
       " '287': 'AVATAR II/PRINCESS ALAISA RUANTHA',\n",
       " '288': 'AVIA',\n",
       " '289': 'AVIOS',\n",
       " '290': 'AVIUS',\n",
       " '291': 'AVRIL, SALLY',\n",
       " '292': 'AVRIL, YVETTE',\n",
       " '293': 'AWESOME ANDROID',\n",
       " '294': 'AXE/',\n",
       " '295': 'AXIS/',\n",
       " '296': 'AYALA, AWILDA',\n",
       " '297': 'AYALA, FILIPPO',\n",
       " '298': 'AYALA, MRS.',\n",
       " '299': 'AYALA, NESTOR',\n",
       " '300': 'AYESHA',\n",
       " '301': 'AZAZEL',\n",
       " '302': 'AZAZEL II',\n",
       " '303': 'AZIR',\n",
       " '304': 'AZOPARDI',\n",
       " '305': 'AZOR',\n",
       " '306': 'AZRAEL',\n",
       " '307': 'AZURE',\n",
       " '308': \"B'ARR\",\n",
       " '309': \"B'GON\",\n",
       " '310': \"B'KOSA, GEN. JONATHAN\",\n",
       " '311': 'BAAL',\n",
       " '312': 'BAAL II',\n",
       " '313': 'BACILLUS',\n",
       " '314': 'BADALAMENTE, JESUS',\n",
       " '315': 'BADALINO, LT. MICHAEL',\n",
       " '316': 'BAILEY, GAILYN',\n",
       " '317': 'BAILEY, JOEY',\n",
       " '318': 'BAILEY, SARA GREY',\n",
       " '319': 'BAIRD, DR.',\n",
       " '320': 'BAKER',\n",
       " '321': 'BAKER, ANNE-MARIE',\n",
       " '322': 'BALABAN/',\n",
       " '323': 'BALDER [ASGARDIAN]',\n",
       " '324': 'BALDWIN, JUSTIN',\n",
       " '325': 'BALDWIN, MADELYNE MADDIE NAYLOR',\n",
       " '326': 'BALE, EMERSON',\n",
       " '327': 'BALLANTINE, DEVON',\n",
       " '328': 'BALLANTINE, KAYLA',\n",
       " '329': 'BALLANTINE, MR.',\n",
       " '330': 'BALLANTINE, MRS.',\n",
       " '331': 'BALOR',\n",
       " '332': 'BAMBI',\n",
       " '333': 'BANCROFT, MARTINE',\n",
       " '334': 'BANDIT/',\n",
       " '335': 'BANK, IRVING',\n",
       " '336': 'BANKS, SHARON',\n",
       " '337': 'BANNER, BETTY ROSS TALBOT',\n",
       " '338': 'BANNERJEE, DR.',\n",
       " '339': 'BANNON, LANCE',\n",
       " '340': 'BANSHEE/SEAN CASSIDY',\n",
       " '341': 'BANSHEE 2013',\n",
       " '342': 'BANSHEE II',\n",
       " '343': 'BANTAM/',\n",
       " '344': 'BANTOCK, LT. OLIVER',\n",
       " '345': 'BAPTISTE, TANTE MATTIE',\n",
       " '346': 'BARAK',\n",
       " '347': 'BARBAROSSA, MARIO',\n",
       " '348': 'BARBAROSSA, VINNIE',\n",
       " '349': 'BARBARUS',\n",
       " '350': 'BARIUM',\n",
       " '351': 'BARKER',\n",
       " '352': 'BARKER, MATTHEW T.',\n",
       " '353': 'BARNACLE/',\n",
       " '354': 'BARNETT, MIKE',\n",
       " '355': 'BARON BLOOD/JOHN FALSWORTH',\n",
       " '356': 'BARON BLOOD II/VICTOR STRANGE',\n",
       " '357': 'BARON BRIMSTONE/',\n",
       " '358': 'BARON MACABRE/',\n",
       " '359': 'BARON MORDO/KARL MORDO',\n",
       " '360': 'BARON SAMEDI',\n",
       " '361': 'BARON STRUCKER/WOLFGANG VON STRUCKER',\n",
       " '362': 'BARON ZEBEK',\n",
       " '363': 'BARONESS ZEMO/HEIKE',\n",
       " '364': 'BARRACUDA/',\n",
       " '365': 'BARRAGE',\n",
       " '366': 'BARRANCO, MARIA ESMERALDA',\n",
       " '367': 'BARRENOS, OMAR',\n",
       " '368': 'BARRIER/',\n",
       " '369': 'BARRINGTON',\n",
       " '370': 'BARRON, RICK',\n",
       " '371': 'BARROWS, WALTER',\n",
       " '372': 'BARTLETT, STU',\n",
       " '373': 'BARTON, SEN.',\n",
       " '374': 'BARTOS',\n",
       " '375': 'BASALLO/LAVA MEN KING',\n",
       " '376': 'BASALTAR',\n",
       " '377': 'BASILISK/BASIL ELKS',\n",
       " '378': 'BASILISK II',\n",
       " '379': 'BASILISK III/',\n",
       " '380': 'BATAL/',\n",
       " '381': 'BATROC/GEORGES BATROC',\n",
       " '382': 'BATTERING RAM',\n",
       " '383': 'BATTERY/',\n",
       " '384': 'BATTLE, MONTGOMERY',\n",
       " '385': 'BATTLEAXE/',\n",
       " '386': 'BATTLEAXE II/JEROME HAMILTON (II)',\n",
       " '387': 'BATTLESTAR/LEMAR HOSKINS',\n",
       " '388': 'BATWING/',\n",
       " '389': 'BAV-TEK',\n",
       " '390': 'BAXTER',\n",
       " '391': 'BAXTER, ABIGAIL',\n",
       " '392': 'BAXTER, NOAH',\n",
       " '393': 'BAYLOR, FRANK',\n",
       " '394': 'BAYMAX',\n",
       " '395': 'BAZIN, ALLEGRA',\n",
       " '396': 'BAZIN, ANDREW',\n",
       " '397': 'BAZIN, BRODERICK RICK',\n",
       " '398': 'BAZIN, PHILLIPPE',\n",
       " '399': 'BEACH, GINGER',\n",
       " '400': 'BEACH, SPIDER',\n",
       " '401': 'BEALE, ERIC',\n",
       " '402': 'BEAR/',\n",
       " '403': 'BEAST/HENRY &HANK& P. MCCOY',\n",
       " '404': 'BEAST 2013',\n",
       " '405': 'BEAST DOPPELGANGER',\n",
       " '406': 'BEAST DOPPELGANGER II',\n",
       " '407': 'BEAST DOPPELGANGER III',\n",
       " '408': 'BEAUMONT, SPENCER',\n",
       " '409': 'BEAUTIFUL DREAMER',\n",
       " '410': 'BEAUTIFUL DREAMER II',\n",
       " '411': 'BEAUTY',\n",
       " '412': 'BECKFORD, NOEL',\n",
       " '413': 'BECKLEY, BENNY',\n",
       " '414': 'BECKMAN, CHARLES',\n",
       " '415': 'BECKMAN, JOSEPH',\n",
       " '416': 'BECKMAN, LISA',\n",
       " '417': 'BECKMAN, SARAH',\n",
       " '418': 'BEDFORD, BRAD HULK',\n",
       " '419': 'BEDLAM/JESSE AARONSON',\n",
       " '420': 'BEDLAM II/OLISA KABAKI',\n",
       " '421': 'BEEF/',\n",
       " '422': 'BEEFER',\n",
       " '423': 'BEERE, JASON',\n",
       " '424': 'BEETLE/ABNER RONALD JENKINS',\n",
       " '425': 'BEETLE II/LEILA DAVIS',\n",
       " '426': 'BEETLE ROBOT',\n",
       " '427': 'BEHEMOTH',\n",
       " '428': 'BEL-DANN, GEN.',\n",
       " '429': 'BELASCO',\n",
       " '430': 'BELDAME',\n",
       " '431': 'BELGRADE, DR. HORATIO',\n",
       " '432': 'BELIAL',\n",
       " '433': 'BELL, HERBERT',\n",
       " '434': 'BELLADONNA',\n",
       " '435': 'BELLAM',\n",
       " '436': 'BELLE',\n",
       " '437': 'BENAZA',\n",
       " '438': 'BENCHLEY',\n",
       " '439': 'BENDIX, DR. ALBERT',\n",
       " '440': 'BENEDICT',\n",
       " '441': 'BENEDICT, ANDREW',\n",
       " '442': 'BENGAL/',\n",
       " '443': 'BENJAMIN, BYRON',\n",
       " '444': 'BENNETT, DANNY',\n",
       " '445': 'BENNETT, MITCH',\n",
       " '446': 'BENNING, VERONICA',\n",
       " '447': 'BENNY, JAKE',\n",
       " '448': 'BENTLEY, MILES',\n",
       " '449': 'BENTLEY, VICTORIA',\n",
       " '450': 'BENTON, TERRY',\n",
       " '451': 'BENWAY, DR.',\n",
       " '452': 'BERDITCHEV, ITZHAK',\n",
       " '453': 'BEREET',\n",
       " '454': 'BERENGHETTI, MICHAEL',\n",
       " '455': 'BERENGHETTI, SUSAN',\n",
       " '456': 'BERGER, PROF.',\n",
       " '457': 'BERGIER, REBECCA',\n",
       " '458': 'BERGLUND, GEN.',\n",
       " '459': 'BERKELEY, TRAVIS',\n",
       " '460': 'BERMAN, ADAM',\n",
       " '461': 'BERNARD THE POET',\n",
       " '462': 'BERNHARD, CLARICE',\n",
       " '463': 'BERNIE',\n",
       " '464': 'BERNSTEIN, DR. NOAH',\n",
       " '465': 'BERNSTEIN, EMMA WEBSTER',\n",
       " '466': 'BERSERKER',\n",
       " '467': 'BERSERKER II',\n",
       " '468': 'BERSERKER III',\n",
       " '469': 'BERTRAM',\n",
       " '470': 'BERYL',\n",
       " '471': 'BERYLLIUM',\n",
       " '472': 'BETA RAY BILL',\n",
       " '473': 'BETA RAY BILL | MUTANT X-VERSE',\n",
       " '474': 'BETELHEIM, NORMA',\n",
       " '475': 'BETTY-6',\n",
       " '476': 'BEVATRON/',\n",
       " '477': 'BEYNON, DR. BRADLEY',\n",
       " '478': 'BEYONDER',\n",
       " '479': 'BEYONDER | MUTANT X-VERSE',\n",
       " '480': 'BI-BEAST',\n",
       " '481': 'BI-BEAST II',\n",
       " '482': 'BIANDU',\n",
       " '483': 'BIG BEN/',\n",
       " '484': 'BIG BERTHA/ASHLEY CRAWFORD',\n",
       " '485': 'BIG CASINO/',\n",
       " '486': 'BIG MAN/FREDERICK FOSWELL',\n",
       " '487': 'BIG ONE/KENJIRO SASAKI',\n",
       " '488': 'BIGGERS, MELVIN',\n",
       " '489': 'BILE/',\n",
       " '490': 'BILLUPS, AGENT',\n",
       " '491': 'BINARY/CAROL DANVERS',\n",
       " '492': 'BINARY | MUTANT X-VERSE/CAROL DANVERS',\n",
       " '493': 'BIOHAZARD',\n",
       " '494': 'BIOHAZARD II/FLETCHER TRAYNOR',\n",
       " '495': 'BIRD MAN/HENRY HAWK',\n",
       " '496': 'BIRD MAN III/',\n",
       " '497': 'BIRD, TUESDAY',\n",
       " '498': 'BIRDBRAIN',\n",
       " '499': 'BIRDY',\n",
       " '500': 'BISHOP /',\n",
       " '501': 'BISON/BILLY KITSON',\n",
       " '502': 'BITMAP/',\n",
       " '503': 'BIZEN',\n",
       " '504': 'BLACK AVENGER/JERRY CARSTAIRS',\n",
       " '505': 'BLACK BOLT/BLACKANTOR BOLTAGON [INHUMAN]',\n",
       " '506': 'BLACK BOLT | MUTANT X-VERSE',\n",
       " '507': 'BLACK BRIGADE',\n",
       " '508': 'BLACK CAT/FELICIA HARDY',\n",
       " '509': 'BLACK CRANE/',\n",
       " '510': 'BLACK CROW/JESSE BLACK CROW',\n",
       " '511': 'BLACK DEATH/DR. IVAN KIVELKI',\n",
       " '512': 'BLACK FOX/ROBERT W. PAINE',\n",
       " '513': 'BLACK FOX II/',\n",
       " '514': 'BLACK GOLIATH/DR. WILLIAM BILL BARRETT FOSTER',\n",
       " '515': 'BLACK HOLE/MORTON KIBBEE',\n",
       " '516': 'BLACK KING/SEBASTIAN SHAW',\n",
       " '517': 'BLACK KING/SEBASTIAN SHAW | MUTANT X-VERSE',\n",
       " '518': 'BLACK KNIGHT/SIR PERCY OF SCANDIA',\n",
       " '519': 'BLACK KNIGHT II/SIR RASTON',\n",
       " '520': 'BLACK KNIGHT III/EOBAR GARRINGTON',\n",
       " '521': 'BLACK KNIGHT IV/PROFESSOR NATHAN GARRETT',\n",
       " '522': 'BLACK KNIGHT V/DANE WHITMAN',\n",
       " '523': 'BLACK KNIGHT IV DOPPELGANGER',\n",
       " '524': 'BLACK KNIGHT V DOPPELGANGER II',\n",
       " '525': 'BLACK KNIGHT V STATUE',\n",
       " '526': 'BLACK KNIGHT VI/PROFESSOR NATHAN GARRETT II',\n",
       " '527': 'BLACK LAMA',\n",
       " '528': 'BLACK MAMBA/TANYA SEALY',\n",
       " '529': 'BLACK MARIAH',\n",
       " '530': 'BLACK MARVEL/DAN LYONS',\n",
       " '531': 'BLACK MORAY',\n",
       " '532': 'BLACK MOUNTAIN/KUROYAMA',\n",
       " '533': \"BLACK PANTHER/T'CHALLA\",\n",
       " '534': 'BLACK PANTHER | MUTANT X-VERSE',\n",
       " '535': 'BLACK RAAZER/',\n",
       " '536': 'BLACK RACER/',\n",
       " '537': 'BLACK RAZER',\n",
       " '538': 'BLACK SPECTRE/CARSON KNOWLES',\n",
       " '539': 'BLACK TALON/DESMOND DREW',\n",
       " '540': 'BLACK TALON II/SAMUEL DAVID BARONE',\n",
       " '541': 'BLACK TALON III',\n",
       " '542': 'BLACK TARANTULA/LAMUERTO',\n",
       " '543': 'BLACK TARANTULA II/CARLOS LAMUERTO',\n",
       " '544': 'BLACK TOM CASSIDY',\n",
       " '545': 'BLACK WIDOW/NATASHA ROMANOVA',\n",
       " '546': 'BLACK WIDOW II/YELENA BELOVA',\n",
       " '547': 'BLACK WIDOW DOPPELGANGER',\n",
       " '548': 'BLACK WIDOW | MUTANT X-VERSE',\n",
       " '549': 'BLACK, CAL',\n",
       " '550': 'BLACK, CYRUS',\n",
       " '551': 'BLACK, RACHEL',\n",
       " '552': 'BLACKBALL',\n",
       " '553': 'BLACKBIRD/',\n",
       " '554': 'BLACKBODY',\n",
       " '555': 'BLACKHEART',\n",
       " '556': 'BLACKJACK/',\n",
       " '557': 'BLACKOUT/MARCUS DANIELS',\n",
       " '558': 'BLACKOUT II/',\n",
       " '559': 'BLACKSHEAR, JONAS',\n",
       " '560': 'BLACKWELL',\n",
       " '561': 'BLACKWING/JOSEPH MANFREDI',\n",
       " '562': 'BLACKWING II/',\n",
       " '563': 'BLACKWOOD, JENNY',\n",
       " '564': 'BLACKWULF',\n",
       " '565': 'BLADE',\n",
       " '566': 'BLAIR, CALEY',\n",
       " '567': 'BLAIRE, CARTER',\n",
       " '568': 'BLAKE, BECKY',\n",
       " '569': 'BLAKE, DR. DONALD',\n",
       " '570': 'BLAKE, DR. DONALD (CONSTRUCT)',\n",
       " '571': 'BLAKE, EMILY',\n",
       " '572': 'BLAKE, KENT',\n",
       " '573': 'BLANDING, ANDREW',\n",
       " '574': 'BLANDING, HALEY',\n",
       " '575': 'BLANDING, MRS.',\n",
       " '576': 'BLAQUESMITH',\n",
       " '577': 'BLARE/',\n",
       " '578': 'BLASTAAR',\n",
       " '579': 'BLASTING CAP/',\n",
       " '580': 'BLAZE, CRAIG',\n",
       " '581': 'BLAZE, EMMA',\n",
       " '582': 'BLAZE, ROXANNE SIMPSON',\n",
       " '583': 'BLAZING SKULL/MARK TODD',\n",
       " '584': 'BLESSING, MORGANA',\n",
       " '585': 'BLIND AL/ALTHEA',\n",
       " '586': 'BLINDSIDE II/BOBBI CHASE',\n",
       " '587': 'BLINK/FERGUSON, CLARICE',\n",
       " '588': 'BLISS',\n",
       " '589': 'BLISS, BONNIE',\n",
       " '590': 'BLISS, MISS',\n",
       " '591': 'BLITZIANA',\n",
       " '592': 'BLITZKRIEG/',\n",
       " '593': 'BLIZZARD/PROF. GREGOR SHAPANKA',\n",
       " '594': 'BLIZZARD II/DONALD GILL',\n",
       " '595': 'BLOB/FRED J. DUKES',\n",
       " '596': 'BLOCKADE/DEXTER PARISH',\n",
       " '597': 'BLOCKBUSTER/',\n",
       " '598': 'BLOCKBUSTER II',\n",
       " '599': 'BLOCKBUSTER III/MICHAEL BAER',\n",
       " '600': 'BLOK',\n",
       " '601': 'BLOKE/MICKEY TORK',\n",
       " '602': 'BLOOD BROTHERS',\n",
       " '603': 'BLOOD SPIDER/',\n",
       " '604': 'BLOOD WRAITH/SEAN DOLAN',\n",
       " '605': 'BLOOD-TIDE',\n",
       " '606': 'BLOODAXE/JACKIE LUKUS',\n",
       " '607': 'BLOODHOUND/',\n",
       " '608': 'BLOODLUST',\n",
       " '609': 'BLOODSHED/WYNDELL DICHINSON',\n",
       " '610': 'BLOODSCREAM',\n",
       " '611': 'BLOODSTONE/ULYSSES BLOODSTONE',\n",
       " '612': 'BLOODSTORM | MUTANT X-VERSE/ORORO MUNROE',\n",
       " '613': 'BLOODSTRIKE/ERIC CONROY',\n",
       " '614': 'BLOODVESSEL, BUSTA',\n",
       " '615': \"BLOODWING [SHI'AR]\",\n",
       " '616': 'BLOODWRAITH/SEAN DOLAN',\n",
       " '617': 'BLOODY BESS',\n",
       " '618': 'BLOODY MARY',\n",
       " '619': 'BLOTT, BRIGADIER INKY',\n",
       " '620': 'BLOWTORCH/',\n",
       " '621': 'BLUDGEON/',\n",
       " '622': 'BLUDGEON/',\n",
       " '623': 'BLUE BULLET/PROF. JOHN GOLDSTEIN',\n",
       " '624': 'BLUE DIAMOND/PROFESSOR ELTON T. MORROW',\n",
       " '625': 'BLUE SHIELD/JOSEPH JOEY CARTELLI',\n",
       " '626': 'BLUE STREAK/',\n",
       " '627': 'BLUNT',\n",
       " '628': 'BLUR',\n",
       " '629': 'BLURRY',\n",
       " '630': 'BOAK',\n",
       " '631': 'BOBCAT/',\n",
       " '632': 'BODYBAG',\n",
       " '633': 'BOERKE, MAYOR',\n",
       " '634': 'BOGATYR/MIKULA GOLUBEV',\n",
       " '635': 'BOGGS, MORDECAI P.',\n",
       " '636': 'BOLERO/',\n",
       " '637': 'BOLT/LAWRENCE EVANS',\n",
       " '638': 'BOLT II/CHRIS BRADLEY/BRIAN JOHNSON',\n",
       " '639': 'BOLT, COUNCILMAN ANDREW',\n",
       " '640': 'BOMBADIER/',\n",
       " '641': 'BOMBLAST/',\n",
       " '642': 'BOMBSHELL/',\n",
       " '643': 'BOND',\n",
       " '644': 'BONEBREAKER/',\n",
       " '645': 'BONES/ELIZABETH BLISS',\n",
       " '646': 'BONITA',\n",
       " '647': 'BOOBYTRAP/',\n",
       " '648': 'BOOKWORM/NELSON GRUBER',\n",
       " '649': 'BOOMER/TABITHA SMITH',\n",
       " '650': 'BOOMERANG/FRED MYERS',\n",
       " '651': 'BOOMSLANG/',\n",
       " '652': 'BOONE',\n",
       " '653': 'BORA',\n",
       " '654': 'BORAKU',\n",
       " '655': 'BORROB',\n",
       " '656': 'BORROUGHS, CHARLES CHARLIE',\n",
       " '657': 'BOSCO, ELAINE',\n",
       " '658': 'BOSHLOVOR',\n",
       " '659': 'BOUDREAUX, BELLA DONNA',\n",
       " '660': 'BOUDREAUX, BELLA DONNA | MUTANT X-VERSE',\n",
       " '661': 'BOUDREAUX, MARIUS',\n",
       " '662': 'BOULDER/',\n",
       " '663': 'BOUNCER',\n",
       " '664': 'BOUNTY',\n",
       " '665': 'BOUNTY II',\n",
       " '666': 'BOVA',\n",
       " '667': 'BOWDEN, DENNIS',\n",
       " '668': 'BOWEN, FATHER MICHAEL',\n",
       " '669': 'BOWMAN, MAJ.',\n",
       " '670': 'BOX/ROGER BOCHS',\n",
       " '671': 'BOX II/JERRY JAXXON',\n",
       " '672': 'BOX IV/MADISON JEFFRIES',\n",
       " '673': 'BOYD, TWO-FISTED TOMMY',\n",
       " '674': 'BRADDOCK, ELIZABETH',\n",
       " '675': 'BRADDOCK, JAMES',\n",
       " '676': 'BRADDOCK, JAMES JR. JAMIE',\n",
       " '677': 'BRADDOCK, JOHN',\n",
       " '678': 'BRADLEY, CARRIE',\n",
       " '679': 'BRADLEY, HANK',\n",
       " '680': 'BRADLEY, JESSICA',\n",
       " '681': 'BRAHAMS',\n",
       " '682': 'BRAHMANES',\n",
       " '683': 'BRAIN CELL/',\n",
       " '684': 'BRAIN DRAIN/WERNER SCHMIDT',\n",
       " '685': 'BRAINCHILD',\n",
       " '686': 'BRAINSTORM/',\n",
       " '687': 'BRAINY',\n",
       " '688': 'BRAITHWAITE, JUDGE ROBERT',\n",
       " '689': 'BRAMER',\n",
       " '690': 'BRANDEIS, CAMMY',\n",
       " '691': 'BRANDEIS, LIZ PARRISH',\n",
       " '692': 'BRANDEIS, PROF. HENRY',\n",
       " '693': 'BRANDT, ELLEN',\n",
       " '694': 'BRANNEX',\n",
       " '695': 'BRANNEX, ALLESSANDRO',\n",
       " '696': 'BRANSON',\n",
       " '697': 'BRASS/SEAN WATANABE',\n",
       " '698': 'BRASS BISHOP/',\n",
       " '699': 'BRAWLER',\n",
       " '700': 'BRAWN, HUNTER',\n",
       " '701': 'BRAWN, TRISTAN',\n",
       " '702': 'BREAKER/RAAK',\n",
       " '703': 'BREEGAN',\n",
       " '704': 'BRES',\n",
       " '705': 'BREWER, AMY',\n",
       " '706': 'BREWER, DR. MELINDA',\n",
       " '707': 'BRICKFORD, CLAY',\n",
       " '708': 'BRICKMAN, GLORIA',\n",
       " '709': 'BRICKMAN, SEN. MILES RALPH',\n",
       " '710': 'BRIDGE, GEORGE WASHINGTON G.W.',\n",
       " '711': 'BRIGGS, AGENT',\n",
       " '712': 'BRIGGS, AGENT STEPHANIE',\n",
       " '713': 'BRIGHTSWORD/CARTER DYAM',\n",
       " '714': 'BRIGHTWIND',\n",
       " '715': 'BRINKE, NIOMI',\n",
       " '716': 'BRIQUETTE/',\n",
       " '717': 'BROADSIDE',\n",
       " '718': 'BROGIN, BULL',\n",
       " '719': 'BROKEN MAN',\n",
       " '720': 'BROKER',\n",
       " '721': 'BROMINE',\n",
       " '722': 'BROMWELL, DR.',\n",
       " '723': 'BRONA',\n",
       " '724': 'BROOKS, ANNA',\n",
       " '725': 'BROOP',\n",
       " '726': 'BROTHER CAESAR',\n",
       " '727': 'BROTHER ROYAL',\n",
       " '728': 'BROTHER STEPHEN',\n",
       " '729': 'BROTHER TODE',\n",
       " '730': 'BROTHER VIRGIL',\n",
       " '731': 'BROTHER VOODOO/DANIEL DRUMM/JERICHO DRUMM',\n",
       " '732': 'BROTHER VOODOO | MUTANT X-VERSE',\n",
       " '733': 'BROTHER WONDERFUL/DR. ABNER DOOLITTLE',\n",
       " '734': 'BROTHERS GRIMM',\n",
       " '735': 'BROTHERS GRIMM II/BARTON & PERCY GRIMM',\n",
       " '736': 'BROWN, ABE',\n",
       " '737': 'BROWN, FRANK',\n",
       " '738': 'BROWN, LAURA',\n",
       " '739': 'BROWN, MINDY MCPHERSON',\n",
       " '740': 'BROWSER',\n",
       " '741': 'BRUKNER, DR. FRANK',\n",
       " '742': 'BRUKNER, ILANEY',\n",
       " '743': 'BRUNNHILDE/MCM-XLI (1941)',\n",
       " '744': 'BRUNO',\n",
       " '745': 'BRUTACUS',\n",
       " '746': 'BRUTE/REED RICHARDS COUNTER-EARTH',\n",
       " '747': 'BRUTE II/',\n",
       " '748': 'BRUTE | MUTANT X-VERSE/HENRY MCCOY',\n",
       " '749': 'BRUTO THE STRONGMAN/',\n",
       " '750': 'BRUTUS',\n",
       " '751': 'BRUTUS II',\n",
       " '752': 'BRUTUS KLOR',\n",
       " '753': 'BRYCE, ARCHER',\n",
       " '754': 'BUCHANAN, SAM',\n",
       " '755': 'BUCHETTO, SALVATORE SIDE POCKETS',\n",
       " '756': 'BUCHOVITZ, STANLEY &STONEWALL&',\n",
       " '757': 'BUCKNER, GRANT',\n",
       " '758': 'BUCKMAN, EDWARD',\n",
       " '759': 'BUCKY/BUCKY BARNES',\n",
       " '760': 'BUCKY II/FRED DAVIS',\n",
       " '761': 'BUCKY VI/',\n",
       " '762': 'BUCKY VII/RIKKI BARNES',\n",
       " '763': 'BUEL',\n",
       " '764': 'BUG',\n",
       " '765': 'BUKOWSKI, BUCK',\n",
       " '766': 'BULL',\n",
       " '767': 'BULLDOZER/HENRY CAMP',\n",
       " '768': 'BULLET',\n",
       " '769': 'BULLET BIKER',\n",
       " '770': 'BULLSEYE',\n",
       " '771': 'BULLSEYE II/BENJAMIN POINDEXTER',\n",
       " '772': 'BULLSEYE | MUTANT X-VERSE/BENJAMIN POINDEXTER',\n",
       " '773': 'BULWARK/',\n",
       " '774': 'BUMPKIN',\n",
       " '775': 'BUMPO, MR.',\n",
       " '776': 'BUNYAN, PAUL',\n",
       " '777': 'BURGOS, CARL',\n",
       " '778': 'BURKE',\n",
       " '779': 'BURKE, GWYNETH',\n",
       " '780': 'BURKE, JACK',\n",
       " '781': 'BURKE, JOB',\n",
       " '782': 'BURKE, RICKY',\n",
       " '783': 'BURKE, THERESA TRACY',\n",
       " '784': 'BURLEY, MIKE',\n",
       " '785': 'BURLINGAME, CALVIN',\n",
       " '786': 'BURNING PUDDLE',\n",
       " '787': 'BURR, CLAYTON',\n",
       " '788': 'BURRTHROP, T. BARTON',\n",
       " '789': 'BURST/',\n",
       " '790': 'BUSH, GEORGE',\n",
       " '791': 'BUSHKIN, BARNEY',\n",
       " '792': 'BUSHMAN, RAOUL',\n",
       " '793': 'BUSHMASTER/JOHN MCIVER',\n",
       " '794': 'BUSHMASTER II/QUINCY MCIVER',\n",
       " '795': 'BUSHWACKER/CARL',\n",
       " '796': 'BUSIEK, KURT',\n",
       " '797': 'BUTCH',\n",
       " '798': 'BUTTERFLY',\n",
       " '799': 'BUTTONS',\n",
       " '800': 'BUX',\n",
       " '801': 'BUZZ',\n",
       " '802': 'BUZZARD',\n",
       " '803': 'BYRD, NATHANIEL ALEXANDER BLACKBYRD',\n",
       " '804': 'BYRD, SEN. HARRINGTON',\n",
       " '805': 'BYREL',\n",
       " '806': 'BYRNE, JOHN',\n",
       " '807': 'BYRNES, GAYLE WATSON',\n",
       " '808': 'BYRNES, TIM',\n",
       " '809': 'BYRRAH [ATLANTEAN]',\n",
       " '810': 'BYRRAH | HEROES REBORN-VERSE',\n",
       " '811': 'C.F.',\n",
       " '812': 'CABE, BETHANY',\n",
       " '813': 'CABER',\n",
       " '814': 'CACHE',\n",
       " '815': 'CACHES, FABIAN',\n",
       " '816': 'CACHES, PROF. MARINA',\n",
       " '817': 'CACTUS',\n",
       " '818': 'CADAVER',\n",
       " '819': 'CADMIUM',\n",
       " '820': 'CADUCEUS',\n",
       " '821': 'CAESAR',\n",
       " '822': 'CAESAR, JONATHAN',\n",
       " '823': 'CAESAR, JULIUS',\n",
       " '824': 'CAGE, LUKE/CARL LUCAS',\n",
       " '825': 'CAGLIOSTRO, ALESSANDRO/GUISEPPE BALSAMO',\n",
       " '826': 'CAIRN, DET.',\n",
       " '827': 'CALCULUS/JAHAHAREL PATEL',\n",
       " '828': 'CALDERONE, HANNAH',\n",
       " '829': 'CALDRONE, JAVIER',\n",
       " '830': 'CALEDONIA/ALISANDE STEWART',\n",
       " '831': 'CALIBAN/',\n",
       " '832': 'CALIFORNIUM',\n",
       " '833': 'CALKIN, SUSAN',\n",
       " '834': 'CALLAGHAN, JAMES',\n",
       " '835': 'CALLAHAN, DANNY',\n",
       " '836': 'CALLAHAN, MIKE',\n",
       " '837': 'CALLISTO',\n",
       " '838': 'CALLISTO | MUTANT X-VERSE',\n",
       " '839': 'CALUMET',\n",
       " '840': 'CALYPSO',\n",
       " '841': 'CAMBRIDGE, MOXIE',\n",
       " '842': 'CAMPBELL, DR. RORY',\n",
       " '843': 'CAMPBELL, MEREDITH',\n",
       " '844': 'CAMPBELL, VALERIE',\n",
       " '845': 'CANCELLATOR',\n",
       " '846': 'CANCER/JACK KLEVENO',\n",
       " '847': 'CANCER II/',\n",
       " '848': 'CANDLEMAS/',\n",
       " '849': 'CANDLER, OWEN',\n",
       " '850': 'CANDRA',\n",
       " '851': 'CANDY',\n",
       " '852': 'CANE/',\n",
       " '853': 'CANNONBALL/JACK PULVER',\n",
       " '854': 'CANNONBALL II/SAM GUTHRIE',\n",
       " '855': 'CANNONBALL/SAM GUTHRIE | MUTANT X-VERSE',\n",
       " '856': 'CANTOR, VERA',\n",
       " '857': 'CAPRICORN/WILLARD WEIR',\n",
       " '858': 'CAPRICORN II/',\n",
       " '859': 'CAPTAIN AMERICA',\n",
       " '860': 'CAPTAIN AMERICA IV/STEVE ROGERS II',\n",
       " '861': 'CAPTAIN AMERICA V/ROSCOE',\n",
       " '862': 'CAPTAIN AMERICA DOPPELGANGER',\n",
       " '863': 'CAPTAIN AMERICA DOPPELGANGER II',\n",
       " '864': 'CAPTAIN AMERICA DOPPELGANGER III',\n",
       " '865': 'CAPTAIN AMERICA | MUTANT X-VERSE',\n",
       " '866': 'CAPTAIN BARRACUDA',\n",
       " '867': 'CAPTAIN BRITAIN/BRIAN BRADDOCK',\n",
       " '868': 'CAPTAIN BRITAIN 2013',\n",
       " '869': 'CAPTAIN FATE',\n",
       " '870': 'CAPTAIN GLORY',\n",
       " '871': 'CAPTAIN HAWK',\n",
       " '872': 'CAPTAIN HIP/FRED MACRAE',\n",
       " '873': 'CAPTAIN MANHATTAN',\n",
       " '874': 'CAPTAIN MARVEL/CAPTAIN MAR-VELL [KREE]',\n",
       " '875': 'CAPTAIN MARVEL II/MONICA RAMBEAU',\n",
       " '876': 'CAPTAIN MARVEL III/GENIS-VELL',\n",
       " '877': 'CAPTAIN POWER/DR. CHRISTINA CARR',\n",
       " '878': 'CAPTAIN RECTITUDE',\n",
       " '879': 'CAPTAIN TERROR/DAN KANE',\n",
       " '880': 'CAPTAIN U.K./LINDA MCQUILLAN',\n",
       " '881': 'CAPTAIN ULTRA/GRIFFIN GOGOL',\n",
       " '882': 'CAPTAIN UNIVERSE/STEVE COFFIN',\n",
       " '883': 'CAPTAIN WINGS/',\n",
       " '884': 'CAPUTO, DR. JULIA',\n",
       " '885': 'CARBON',\n",
       " '886': 'CARBONE, JULIUS',\n",
       " '887': 'CARBONE, ROSALIE',\n",
       " '888': 'CARBONE, SALVATORE',\n",
       " '889': 'CARDENAS, PACO',\n",
       " '890': 'CARDIAC/DR. ELI WIRTHAM',\n",
       " '891': 'CARDINAL/CLEMDENON',\n",
       " '892': 'CARDINALE, CARLOS',\n",
       " '893': 'CAREGIVER/RUBANNA LAGENRIS QUORIMO',\n",
       " '894': 'CARETAKER',\n",
       " '895': 'CARGIL/JOANNA CARGIL',\n",
       " '896': 'CARGO',\n",
       " '897': 'CARINA/CARINA WALTERS KORVAC',\n",
       " '898': 'CARLISLE, JENNA',\n",
       " '899': 'CARLISLE, MELISSA BOWEN',\n",
       " '900': 'CARLISLE, PHILLIP',\n",
       " '901': 'CARLTON, JAKE',\n",
       " '902': 'CARLTON, LUCY',\n",
       " '903': 'CARLY',\n",
       " '904': 'CARMODY, MARY',\n",
       " '905': 'CARMODY, MRS.',\n",
       " '906': 'CARNAGE/CLETUS KASADY',\n",
       " '907': 'CARNIVORE/COUNT ANDREAS ZORBA',\n",
       " '908': 'CARPATHIAN, ANDREW',\n",
       " '909': 'CARPENTER, LARRY',\n",
       " '910': 'CARPENTER, RACHEL',\n",
       " '911': 'CARR, DAN',\n",
       " '912': 'CARRADINE, JESSICA JESSE',\n",
       " '913': 'CARRERA, MIA',\n",
       " '914': 'CARRION',\n",
       " '915': 'CARRION II/MALCOLM MACBRIDE',\n",
       " '916': 'CARRION III/DR. WILLIAM ALLEN',\n",
       " '917': 'CARSON, LT. PAUL',\n",
       " '918': 'CARTER, BRAD',\n",
       " '919': 'CARTER, JIMMY',\n",
       " '920': 'CARTER, PEGGY',\n",
       " '921': 'CARTER, SHARON',\n",
       " '922': 'CARTER, SHARON II',\n",
       " '923': 'CARTER, TAD',\n",
       " '924': 'CARTHUS',\n",
       " '925': 'CARVER',\n",
       " '926': 'CASE, COL. PRESTON',\n",
       " '927': 'CASEY',\n",
       " '928': 'CASIOLENA, QUEEN',\n",
       " '929': 'CASPER',\n",
       " '930': 'CASS, LARRY MAD DOG',\n",
       " '931': 'CASSADA, CARLOS',\n",
       " '932': 'CASSADA, MICHAEL',\n",
       " '933': 'CASSADA, ROBERTO',\n",
       " '934': 'CASSADA, ROSA',\n",
       " '935': 'CASSANDRA',\n",
       " '936': 'CASSIOPEIA',\n",
       " '937': 'CAT II',\n",
       " '938': 'CAT III/SHEN KUEI',\n",
       " '939': 'CAT IV',\n",
       " '940': 'CAT BURGLAR',\n",
       " '941': 'CAT KING',\n",
       " '942': 'CAT MAN/HORGAN',\n",
       " '943': 'CAT MAN III/',\n",
       " '944': 'CATAPHRAX',\n",
       " '945': 'CATHERWOOD',\n",
       " '946': 'CATHODE/',\n",
       " '947': 'CATSEYE/SHARON SMITH',\n",
       " '948': 'CATWALK/KIMBERLY DEE',\n",
       " '949': 'CAULDER, SAFRON',\n",
       " '950': 'CEAUSECU, IONEL',\n",
       " '951': 'CELESTE',\n",
       " '952': 'CELLANOS, MARCELLA',\n",
       " '953': 'CENTARIUS',\n",
       " '954': 'CENTURIUS',\n",
       " '955': 'CENTURY',\n",
       " '956': 'CENTURY, TURNER D.',\n",
       " '957': 'CERA, KAY',\n",
       " '958': 'CERANDA',\n",
       " '959': 'CERBERUS',\n",
       " '960': 'CERBERUS II',\n",
       " '961': 'CEREBRITE ALPHA',\n",
       " '962': 'CEREBRITE BETA',\n",
       " '963': 'CEREBRO',\n",
       " '964': 'CEREBRO | MUTANT-X VERSE',\n",
       " '965': 'CEREBRO MARK XIII | MUTANT X-VERSE',\n",
       " '966': 'CERISE',\n",
       " '967': \"CERISE II [SHI'AR]\",\n",
       " '968': 'CESIUM',\n",
       " '969': 'CETHLANN',\n",
       " '970': \"CH'OD\",\n",
       " '971': \"CH'THON\",\n",
       " '972': \"CH'VAYRE\",\n",
       " '973': 'CHADWICK, CHEER',\n",
       " '974': 'CHADWICK, DR. HESPERUS',\n",
       " '975': 'CHAIN',\n",
       " '976': 'CHAINSAW/',\n",
       " '977': 'CHAKA KHAN',\n",
       " '978': 'CHAKA KHAN II',\n",
       " '979': 'CHAKARA, KANU',\n",
       " '980': 'CHAKARA, MADAN',\n",
       " '981': 'CHAKRA',\n",
       " '982': 'CHAKRA II',\n",
       " '983': 'CHALIZ, HAZRAM',\n",
       " '984': 'CHALIZ, SHANAZ RAYNA',\n",
       " '985': 'CHALIZ, TABRIAZ',\n",
       " '986': 'CHALKER, PROF. VIC',\n",
       " '987': 'CHALMER, JUDGE',\n",
       " '988': 'CHALMERS, CYNTHIA',\n",
       " '989': 'CHALMERS, JUDGE ROBERT C. HARRISON',\n",
       " '990': 'CHALMERS, MR.',\n",
       " '991': 'CHAMBER/JONOTHON STARSMORE',\n",
       " '992': 'CHAMBERS, MR.',\n",
       " '993': 'CHAMBLISS',\n",
       " '994': 'CHAMELEON/DMITRI SMERDYAKOV',\n",
       " '995': 'CHAMPION/TRYCO SLATTERUS [ELDER]',\n",
       " '996': 'CHAMPION, IMUS',\n",
       " '997': 'CHAN, SARAH',\n",
       " '998': 'CHANCE',\n",
       " '999': 'CHANCE II/NICHOLAS POWELL',\n",
       " '1000': 'CHANDLER, PEGGY',\n",
       " ...}"
      ]
     },
     "execution_count": 106,
     "metadata": {},
     "output_type": "execute_result"
    }
   ],
   "source": [
    "characterLookup"
   ]
  },
  {
   "cell_type": "code",
   "execution_count": 110,
   "metadata": {},
   "outputs": [],
   "source": [
    "# Map values does map only on values\n",
    "# Map the keys using map\n",
    "# Sum the entire occurrences\n",
    "# Sort the occurrences\n",
    "\n",
    "characterStrength = characterBookMap.mapValues(lambda x: len(x))\\\n",
    "                                    .map(lambda x: (characterLookup[x[0]], x[1]))\\\n",
    "                                    .reduceByKey(lambda x, y: x + y)\\\n",
    "                                    .sortBy(lambda x: -x[1])"
   ]
  },
  {
   "cell_type": "code",
   "execution_count": 111,
   "metadata": {},
   "outputs": [
    {
     "data": {
      "text/plain": [
       "[('SPIDER-MAN/PETER PARKER', 1625),\n",
       " ('CAPTAIN AMERICA', 1367),\n",
       " ('IRON MAN/TONY STARK', 1168),\n",
       " ('THING/BENJAMIN J. GRIMM', 990),\n",
       " ('THOR/DR. DONALD BLAKE/SIGURD JARLSON II/JAKE OLSON/LOREN OLSON', 965),\n",
       " ('HUMAN TORCH/JOHNNY STORM', 908),\n",
       " ('MR. FANTASTIC/REED RICHARDS', 875),\n",
       " ('HULK/DR. ROBERT BRUCE BANNER', 841),\n",
       " ('WOLVERINE/LOGAN', 820),\n",
       " ('INVISIBLE WOMAN/SUE STORM RICHARDS', 782)]"
      ]
     },
     "execution_count": 111,
     "metadata": {},
     "output_type": "execute_result"
    }
   ],
   "source": [
    "characterStrength.take(10)"
   ]
  },
  {
   "cell_type": "code",
   "execution_count": 117,
   "metadata": {},
   "outputs": [],
   "source": [
    "# Co-occurrence Network"
   ]
  },
  {
   "cell_type": "code",
   "execution_count": 148,
   "metadata": {},
   "outputs": [],
   "source": [
    "# Generating the columnar tuples\n",
    "# Reverse the tuples\n",
    "# Use reduceByKey to generate book and it's characters map\n",
    "# Use mapValues to split up the stiring into the list\n",
    "# Finally we have books to character map\n",
    "\n",
    "bookCharacterMap = characterBookMap.flatMapValues(lambda x: x)\\\n",
    "                                    .map(lambda x: (x[1], x[0]))\\\n",
    "                                    .reduceByKey(lambda x, y: x + ',' + y)\\\n",
    "                                    .mapValues(lambda x: x.split(','))"
   ]
  },
  {
   "cell_type": "code",
   "execution_count": 149,
   "metadata": {},
   "outputs": [
    {
     "data": {
      "text/plain": [
       "[('6490', ['2']),\n",
       " ('6493',\n",
       "  ['2',\n",
       "   '154',\n",
       "   '859',\n",
       "   '2186',\n",
       "   '2399',\n",
       "   '2555',\n",
       "   '3035',\n",
       "   '3491',\n",
       "   '4228',\n",
       "   '6022',\n",
       "   '6148']),\n",
       " ('6496',\n",
       "  ['2',\n",
       "   '66',\n",
       "   '133',\n",
       "   '155',\n",
       "   '183',\n",
       "   '274',\n",
       "   '403',\n",
       "   '505',\n",
       "   '522',\n",
       "   '533',\n",
       "   '545',\n",
       "   '592',\n",
       "   '731',\n",
       "   '824',\n",
       "   '859',\n",
       "   '867',\n",
       "   '1116',\n",
       "   '1127',\n",
       "   '1231',\n",
       "   '1265',\n",
       "   '1289',\n",
       "   '1347',\n",
       "   '1369',\n",
       "   '1383',\n",
       "   '1425',\n",
       "   '1480',\n",
       "   '1535',\n",
       "   '1587',\n",
       "   '1602',\n",
       "   '1649',\n",
       "   '1805',\n",
       "   '2069',\n",
       "   '2184',\n",
       "   '2199',\n",
       "   '2273',\n",
       "   '2295',\n",
       "   '2397',\n",
       "   '2399',\n",
       "   '2430',\n",
       "   '2438',\n",
       "   '2449',\n",
       "   '2548',\n",
       "   '2557',\n",
       "   '2603',\n",
       "   '2613',\n",
       "   '2614',\n",
       "   '2650',\n",
       "   '2658',\n",
       "   '2664',\n",
       "   '2689',\n",
       "   '2728',\n",
       "   '2931',\n",
       "   '3008',\n",
       "   '3210',\n",
       "   '3220',\n",
       "   '3233',\n",
       "   '3319',\n",
       "   '3594',\n",
       "   '3662',\n",
       "   '3712',\n",
       "   '3750',\n",
       "   '3757',\n",
       "   '3805',\n",
       "   '3950',\n",
       "   '3955',\n",
       "   '3986',\n",
       "   '3989',\n",
       "   '4024',\n",
       "   '4132',\n",
       "   '4188',\n",
       "   '4204',\n",
       "   '4366',\n",
       "   '4441',\n",
       "   '4454',\n",
       "   '4589',\n",
       "   '4603',\n",
       "   '4607',\n",
       "   '4731',\n",
       "   '4804',\n",
       "   '4860',\n",
       "   '4898',\n",
       "   '4978',\n",
       "   '5002',\n",
       "   '5013',\n",
       "   '5017',\n",
       "   '5021',\n",
       "   '5046',\n",
       "   '5088',\n",
       "   '5250',\n",
       "   '5306',\n",
       "   '5309',\n",
       "   '5446',\n",
       "   '5467',\n",
       "   '5516',\n",
       "   '5535',\n",
       "   '5615',\n",
       "   '5696',\n",
       "   '5716',\n",
       "   '5736',\n",
       "   '5776',\n",
       "   '5834',\n",
       "   '5874',\n",
       "   '5973',\n",
       "   '5986',\n",
       "   '5999',\n",
       "   '6066',\n",
       "   '6148',\n",
       "   '6196',\n",
       "   '6227',\n",
       "   '6306',\n",
       "   '6313']),\n",
       " ('6497',\n",
       "  ['3',\n",
       "   '323',\n",
       "   '1818',\n",
       "   '2471',\n",
       "   '2506',\n",
       "   '2731',\n",
       "   '2971',\n",
       "   '4045',\n",
       "   '5099',\n",
       "   '5736',\n",
       "   '6066',\n",
       "   '6084']),\n",
       " ('6498',\n",
       "  ['3',\n",
       "   '1818',\n",
       "   '2206',\n",
       "   '2422',\n",
       "   '2471',\n",
       "   '2506',\n",
       "   '2731',\n",
       "   '4045',\n",
       "   '5099',\n",
       "   '5620',\n",
       "   '5736']),\n",
       " ('6500',\n",
       "  ['3',\n",
       "   '323',\n",
       "   '1818',\n",
       "   '2206',\n",
       "   '2422',\n",
       "   '2471',\n",
       "   '2506',\n",
       "   '2731',\n",
       "   '4045',\n",
       "   '5099',\n",
       "   '5620',\n",
       "   '5736',\n",
       "   '6084']),\n",
       " ('6502',\n",
       "  ['3',\n",
       "   '403',\n",
       "   '859',\n",
       "   '874',\n",
       "   '2664',\n",
       "   '2959',\n",
       "   '2971',\n",
       "   '3035',\n",
       "   '3678',\n",
       "   '4898',\n",
       "   '6066']),\n",
       " ('6503',\n",
       "  ['3',\n",
       "   '191',\n",
       "   '328',\n",
       "   '411',\n",
       "   '481',\n",
       "   '1014',\n",
       "   '1599',\n",
       "   '1622',\n",
       "   '1697',\n",
       "   '2406',\n",
       "   '2592',\n",
       "   '2952',\n",
       "   '3081',\n",
       "   '3388',\n",
       "   '3757',\n",
       "   '4105',\n",
       "   '4321',\n",
       "   '4441',\n",
       "   '4591',\n",
       "   '4976',\n",
       "   '5020',\n",
       "   '5024',\n",
       "   '5387',\n",
       "   '5477',\n",
       "   '5622',\n",
       "   '5880',\n",
       "   '6228']),\n",
       " ('6504',\n",
       "  ['3',\n",
       "   '191',\n",
       "   '481',\n",
       "   '1505',\n",
       "   '1599',\n",
       "   '1622',\n",
       "   '1748',\n",
       "   '2592',\n",
       "   '3081',\n",
       "   '3388',\n",
       "   '3757',\n",
       "   '4105',\n",
       "   '4321',\n",
       "   '4441',\n",
       "   '5387',\n",
       "   '5477',\n",
       "   '5670',\n",
       "   '6228']),\n",
       " ('6506', ['4', '1148', '5057', '5193'])]"
      ]
     },
     "execution_count": 149,
     "metadata": {},
     "output_type": "execute_result"
    }
   ],
   "source": [
    "bookCharacterMap.take(10)"
   ]
  },
  {
   "cell_type": "code",
   "execution_count": 162,
   "metadata": {},
   "outputs": [],
   "source": [
    "import itertools\n",
    "\n",
    "# Create the combinations of each characters occurring in a movie\n",
    "cooccurrenceMap = bookCharacterMap.flatMap(lambda x: list(itertools.combinations(x[1], 2)))"
   ]
  },
  {
   "cell_type": "code",
   "execution_count": 163,
   "metadata": {},
   "outputs": [
    {
     "data": {
      "text/plain": [
       "[('2', '154'),\n",
       " ('2', '859'),\n",
       " ('2', '2186'),\n",
       " ('2', '2399'),\n",
       " ('2', '2555'),\n",
       " ('2', '3035'),\n",
       " ('2', '3491'),\n",
       " ('2', '4228'),\n",
       " ('2', '6022'),\n",
       " ('2', '6148')]"
      ]
     },
     "execution_count": 163,
     "metadata": {},
     "output_type": "execute_result"
    }
   ],
   "source": [
    "bookCharacterMap.flatMap(lambda x: list(itertools.combinations(x[1], 2))).take(10)"
   ]
  },
  {
   "cell_type": "code",
   "execution_count": 164,
   "metadata": {},
   "outputs": [],
   "source": [
    "# Map each pair to a (tuple of pair, 1)\n",
    "# Count the pairs using reduceByKey\n",
    "\n",
    "cooccurrenceStrength = cooccurrenceMap.map(lambda x: (x, 1))\\\n",
    "                                      .reduceByKey(lambda x, y: x + y)"
   ]
  },
  {
   "cell_type": "code",
   "execution_count": 165,
   "metadata": {},
   "outputs": [
    {
     "data": {
      "text/plain": [
       "[(('2', '859'), 3),\n",
       " (('2', '2399'), 3),\n",
       " (('2', '2555'), 3),\n",
       " (('2', '3035'), 4),\n",
       " (('154', '2186'), 2),\n",
       " (('154', '3491'), 2),\n",
       " (('154', '4228'), 41),\n",
       " (('154', '6022'), 2),\n",
       " (('154', '6148'), 406),\n",
       " (('859', '2399'), 322)]"
      ]
     },
     "execution_count": 165,
     "metadata": {},
     "output_type": "execute_result"
    }
   ],
   "source": [
    "cooccurrenceStrength.take(10)"
   ]
  },
  {
   "cell_type": "code",
   "execution_count": 166,
   "metadata": {},
   "outputs": [],
   "source": [
    "# Flatten the tuples above\n",
    "\n",
    "cooccurrenceEdges = cooccurrenceStrength\\\n",
    "                    .map(lambda x: (x[0][0], x[0][1], x[1]))"
   ]
  },
  {
   "cell_type": "code",
   "execution_count": 167,
   "metadata": {},
   "outputs": [
    {
     "data": {
      "text/plain": [
       "[('2', '859', 3),\n",
       " ('2', '2399', 3),\n",
       " ('2', '2555', 3),\n",
       " ('2', '3035', 4),\n",
       " ('154', '2186', 2),\n",
       " ('154', '3491', 2),\n",
       " ('154', '4228', 41),\n",
       " ('154', '6022', 2),\n",
       " ('154', '6148', 406),\n",
       " ('859', '2399', 322)]"
      ]
     },
     "execution_count": 167,
     "metadata": {},
     "output_type": "execute_result"
    }
   ],
   "source": [
    "cooccurrenceEdges.take(10)"
   ]
  },
  {
   "cell_type": "code",
   "execution_count": 168,
   "metadata": {},
   "outputs": [],
   "source": [
    "# Sort and identifying the characters\n",
    "\n",
    "sortedCooccurrence = cooccurrenceEdges\\\n",
    "                        .sortBy(lambda x: -x[2])\\\n",
    "                        .map(lambda x: (characterLookup[x[0]], characterLookup[x[1]], x[2]))"
   ]
  },
  {
   "cell_type": "code",
   "execution_count": 169,
   "metadata": {},
   "outputs": [
    {
     "data": {
      "text/plain": [
       "[('HUMAN TORCH/JOHNNY STORM', 'THING/BENJAMIN J. GRIMM', 744),\n",
       " ('HUMAN TORCH/JOHNNY STORM', 'MR. FANTASTIC/REED RICHARDS', 713),\n",
       " ('MR. FANTASTIC/REED RICHARDS', 'THING/BENJAMIN J. GRIMM', 708),\n",
       " ('INVISIBLE WOMAN/SUE STORM RICHARDS', 'MR. FANTASTIC/REED RICHARDS', 701),\n",
       " ('HUMAN TORCH/JOHNNY STORM', 'INVISIBLE WOMAN/SUE STORM RICHARDS', 694),\n",
       " ('INVISIBLE WOMAN/SUE STORM RICHARDS', 'THING/BENJAMIN J. GRIMM', 668),\n",
       " ('SPIDER-MAN/PETER PARKER', 'WATSON-PARKER, MARY JANE', 616),\n",
       " ('JAMESON, J. JONAH', 'SPIDER-MAN/PETER PARKER', 526),\n",
       " ('CAPTAIN AMERICA', 'IRON MAN/TONY STARK', 446),\n",
       " ('SCARLET WITCH/WANDA MAXIMOFF', 'VISION', 422)]"
      ]
     },
     "execution_count": 169,
     "metadata": {},
     "output_type": "execute_result"
    }
   ],
   "source": [
    "sortedCooccurrence.take(10)"
   ]
  },
  {
   "cell_type": "code",
   "execution_count": 170,
   "metadata": {},
   "outputs": [
    {
     "data": {
      "text/plain": [
       "[('SPIDER-MAN/PETER PARKER', 'WATSON-PARKER, MARY JANE', 616),\n",
       " ('JAMESON, J. JONAH', 'SPIDER-MAN/PETER PARKER', 526),\n",
       " ('PARKER, MAY', 'SPIDER-MAN/PETER PARKER', 380),\n",
       " ('ROBERTSON, JOE', 'SPIDER-MAN/PETER PARKER', 356),\n",
       " ('LEEDS, BETTY BRANT', 'SPIDER-MAN/PETER PARKER', 249),\n",
       " ('SPIDER-MAN/PETER PARKER', 'THOMPSON, EUGENE FLASH', 240),\n",
       " ('OSBORN, HARRY', 'SPIDER-MAN/PETER PARKER', 181),\n",
       " ('HUMAN TORCH/JOHNNY STORM', 'SPIDER-MAN/PETER PARKER', 147),\n",
       " ('CAPTAIN AMERICA', 'SPIDER-MAN/PETER PARKER', 145),\n",
       " ('OSBORN, LIZ ALLAN', 'SPIDER-MAN/PETER PARKER', 138)]"
      ]
     },
     "execution_count": 170,
     "metadata": {},
     "output_type": "execute_result"
    }
   ],
   "source": [
    "# Relationships of oother character with spiderman\n",
    "\n",
    "sortedCooccurrence\\\n",
    ".filter(lambda x: 'SPIDER-MAN/PETER PARKER' in x)\\\n",
    ".take(10)"
   ]
  },
  {
   "cell_type": "code",
   "execution_count": 171,
   "metadata": {},
   "outputs": [
    {
     "data": {
      "text/plain": [
       "[('CAPTAIN AMERICA', 'IRON MAN/TONY STARK', 446),\n",
       " ('CAPTAIN AMERICA',\n",
       "  'THOR/DR. DONALD BLAKE/SIGURD JARLSON II/JAKE OLSON/LOREN OLSON',\n",
       "  386),\n",
       " ('CAPTAIN AMERICA', 'VISION', 385),\n",
       " ('CAPTAIN AMERICA', 'WASP/JANET VAN DYNE PYM', 384),\n",
       " ('CAPTAIN AMERICA', 'SCARLET WITCH/WANDA MAXIMOFF', 374),\n",
       " ('CAPTAIN AMERICA', 'HAWK', 322),\n",
       " ('ANT-MAN/DR. HENRY J. PYM', 'CAPTAIN AMERICA', 295),\n",
       " ('CAPTAIN AMERICA', 'JARVIS, EDWIN', 244),\n",
       " ('CAPTAIN AMERICA', 'WONDER MAN/SIMON WILLIAMS', 216),\n",
       " ('CAPTAIN AMERICA', 'FALCON/SAM WILSON', 189)]"
      ]
     },
     "execution_count": 171,
     "metadata": {},
     "output_type": "execute_result"
    }
   ],
   "source": [
    "sortedCooccurrence\\\n",
    ".filter(lambda x: 'CAPTAIN AMERICA' in x)\\\n",
    ".take(10)"
   ]
  },
  {
   "cell_type": "code",
   "execution_count": 172,
   "metadata": {},
   "outputs": [
    {
     "data": {
      "text/plain": [
       "(count: 168267, mean: 3.386106604384635, stdev: 10.918482065185609, max: 744, min: 1)"
      ]
     },
     "execution_count": 172,
     "metadata": {},
     "output_type": "execute_result"
    }
   ],
   "source": [
    "sortedCooccurrence.map(lambda x:x[2]).stats()"
   ]
  },
  {
   "cell_type": "code",
   "execution_count": 173,
   "metadata": {},
   "outputs": [
    {
     "data": {
      "text/plain": [
       "defaultdict(int,\n",
       "            {74: 1,\n",
       "             71: 1,\n",
       "             70: 2,\n",
       "             69: 1,\n",
       "             66: 1,\n",
       "             61: 1,\n",
       "             52: 1,\n",
       "             44: 1,\n",
       "             42: 1,\n",
       "             40: 1,\n",
       "             39: 1,\n",
       "             38: 5,\n",
       "             37: 2,\n",
       "             35: 1,\n",
       "             34: 2,\n",
       "             33: 3,\n",
       "             32: 1,\n",
       "             31: 2,\n",
       "             30: 7,\n",
       "             29: 5,\n",
       "             28: 2,\n",
       "             27: 3,\n",
       "             26: 8,\n",
       "             25: 5,\n",
       "             24: 7,\n",
       "             23: 6,\n",
       "             22: 5,\n",
       "             21: 5,\n",
       "             20: 9,\n",
       "             19: 3,\n",
       "             18: 17,\n",
       "             17: 7,\n",
       "             16: 11,\n",
       "             15: 16,\n",
       "             14: 19,\n",
       "             13: 17,\n",
       "             12: 45,\n",
       "             11: 41,\n",
       "             10: 44,\n",
       "             9: 78,\n",
       "             8: 82,\n",
       "             7: 126,\n",
       "             6: 162,\n",
       "             5: 218,\n",
       "             4: 375,\n",
       "             3: 641,\n",
       "             2: 1405,\n",
       "             1: 5621,\n",
       "             0: 159249})"
      ]
     },
     "execution_count": 173,
     "metadata": {},
     "output_type": "execute_result"
    }
   ],
   "source": [
    "sortedCooccurrence.map(lambda x:int(x[2]/10)).countByValue()"
   ]
  },
  {
   "cell_type": "code",
   "execution_count": null,
   "metadata": {},
   "outputs": [],
   "source": []
  }
 ],
 "metadata": {
  "kernelspec": {
   "display_name": "Python 3",
   "language": "python",
   "name": "python3"
  },
  "language_info": {
   "codemirror_mode": {
    "name": "ipython",
    "version": 3
   },
   "file_extension": ".py",
   "mimetype": "text/x-python",
   "name": "python",
   "nbconvert_exporter": "python",
   "pygments_lexer": "ipython3",
   "version": "3.7.4"
  }
 },
 "nbformat": 4,
 "nbformat_minor": 4
}
